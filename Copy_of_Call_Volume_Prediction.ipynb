{
  "cells": [
    {
      "cell_type": "markdown",
      "metadata": {
        "id": "view-in-github",
        "colab_type": "text"
      },
      "source": [
        "<a href=\"https://colab.research.google.com/github/mboya2020/Churn-in-Telecom-s-Dataset-Classification-Modeling/blob/main/Copy_of_Call_Volume_Prediction.ipynb\" target=\"_parent\"><img src=\"https://colab.research.google.com/assets/colab-badge.svg\" alt=\"Open In Colab\"/></a>"
      ]
    },
    {
      "cell_type": "markdown",
      "id": "idwbZOykugWN",
      "metadata": {
        "id": "idwbZOykugWN"
      },
      "source": [
        "# CALL VOLUME PREDICTION"
      ]
    },
    {
      "cell_type": "markdown",
      "id": "kNOx8xbuus55",
      "metadata": {
        "id": "kNOx8xbuus55"
      },
      "source": [
        "## 1.0 Business Understanding"
      ]
    },
    {
      "cell_type": "markdown",
      "id": "NBKctQ09u3-E",
      "metadata": {
        "id": "NBKctQ09u3-E"
      },
      "source": [
        "### 1.1  Problem statement\n",
        "As a result of an increased number of reported cases on child abuse, there is a dire need to have prompt responses. It is crucial that reported cases are acted upon promptly to ensure timely and efficient handling of reported cases.\n",
        "\n",
        "\n",
        "\n",
        "\n",
        "\n"
      ]
    },
    {
      "cell_type": "markdown",
      "source": [
        "### 1.2 Business Question\n",
        "The stakeholders are Mtoto News, a digital company that leverages on technology to improve child wellbeing, and Childline Kenya, an NGO established in response to the state of child protection in Kenya and the manner in which abuse cases were being reported and handled."
      ],
      "metadata": {
        "id": "1aENy5weXUIe"
      },
      "id": "1aENy5weXUIe"
    },
    {
      "cell_type": "markdown",
      "source": [
        "\n",
        "### 1.3 Main objective\n",
        "Building a forecast model that predicts the number of incoming calls that Childline Kenya will receive per hour per day.."
      ],
      "metadata": {
        "id": "7ZxVCeowXURU"
      },
      "id": "7ZxVCeowXURU"
    },
    {
      "cell_type": "markdown",
      "source": [
        "### 1.4 Supplementary Objective\n",
        "Ensuring Childline Kenya is adequately staffed to handle reported cases.\n"
      ],
      "metadata": {
        "id": "fq6PO_-1XbJ-"
      },
      "id": "fq6PO_-1XbJ-"
    },
    {
      "cell_type": "markdown",
      "source": [
        "### 1.5 Metric of success\n",
        "The algorithm will be considered a success if the predictions made by it has a:\n",
        "\n",
        "**Precision of 90-96%"
      ],
      "metadata": {
        "id": "3agW1cGSXbPu"
      },
      "id": "3agW1cGSXbPu"
    },
    {
      "cell_type": "markdown",
      "id": "kuwkbKWju8MT",
      "metadata": {
        "id": "kuwkbKWju8MT"
      },
      "source": [
        "## 2.0 DATA UNDERSTANDING"
      ]
    },
    {
      "cell_type": "markdown",
      "id": "2qsgPHp1v88v",
      "metadata": {
        "id": "2qsgPHp1v88v"
      },
      "source": [
        "### 2.1 The Dataset\n",
        "\n",
        "The dataset is provided on [Zindi Africa](https://zindi.africa/competitions/mtoto-news-childline-kenya-call-volume-prediction-challenge), the training data contains all the calls (over 135,000) that were received from 1 January 2016 to 12 July 2016.\n",
        "\n",
        "Each call contains the following fields:\n",
        "\n",
        "- calldate - Date (month-day-year) and time of the call\n",
        "\n",
        "- cc_status - Case status\n",
        "\n",
        "- maincat - Main category call falls into\n",
        "\n",
        "- subcat1 - Subcategory call falls under\n",
        "\n",
        "- casepriority - Priority of the case\n",
        "\n",
        "- referal -  Place case referred to\n",
        "\n",
        "- caller_gender - Gender of the caller\n",
        "\n",
        "- caller_age - Age of the caller\n",
        "\n",
        "- caller_county - Area where the call came from\n",
        "\n",
        "- child_age - Age of the child in case\n",
        "\n",
        "- child_gender - Gender of the child in case\n",
        "\n",
        "- child_county - Area where the child is from\n",
        "\n",
        "- parent_age - Age of the parent\n",
        "\n",
        "- parent_gender - Gender of the parent\n",
        "\n",
        "- parent_county - Area where the child is from\n",
        "\n",
        "- Abuser_Relationship - Relationship abuser has with the child in case\n",
        "\n",
        "- Neglector_Relationship - Relationship neglector has with the child in case\n",
        "\n",
        "- Physical_abuser_Relationship - Relationship physical abuser has with the child in case.\n",
        "\n",
        "An explanation of all the columns of the weather data can be found <a href= \"https://rp5.ru/Weather_archive_in_Nairobi_(airport)\">here</a>"
      ]
    },
    {
      "cell_type": "markdown",
      "id": "aRhrK58jvrPq",
      "metadata": {
        "id": "aRhrK58jvrPq"
      },
      "source": [
        "## 3.0 Data Preparation"
      ]
    },
    {
      "cell_type": "markdown",
      "id": "rjv0y6lmvtvv",
      "metadata": {
        "id": "rjv0y6lmvtvv"
      },
      "source": [
        "### 3.1 Loading libraries"
      ]
    },
    {
      "cell_type": "markdown",
      "id": "6ywoyiWita_j",
      "metadata": {
        "id": "6ywoyiWita_j"
      },
      "source": [
        "Connecting to Google drive and Importing all the necessary Libraries | Modules."
      ]
    },
    {
      "cell_type": "code",
      "execution_count": 1,
      "id": "qh43pVs5sjzN",
      "metadata": {
        "colab": {
          "base_uri": "https://localhost:8080/"
        },
        "id": "qh43pVs5sjzN",
        "outputId": "b8bb02b3-6f34-4f9c-c80d-6b341cdbc8e4"
      },
      "outputs": [
        {
          "output_type": "stream",
          "name": "stdout",
          "text": [
            "Mounted at /content/drive\n"
          ]
        }
      ],
      "source": [
        "#connecting collab to google drive \n",
        "\n",
        "from google.colab import drive\n",
        "drive.mount('/content/drive')"
      ]
    },
    {
      "cell_type": "code",
      "execution_count": 2,
      "id": "ec2059f6",
      "metadata": {
        "id": "ec2059f6"
      },
      "outputs": [],
      "source": [
        "#import all the relevant libraries\n",
        "\n",
        "import pandas as pd\n",
        "import numpy as np\n",
        "import os, shutil\n",
        "\n",
        "# visualization libraries\n",
        "import seaborn as sns\n",
        "import matplotlib.pyplot as plt\n",
        "%matplotlib inline\n",
        "\n",
        "\n"
      ]
    },
    {
      "cell_type": "markdown",
      "id": "qQvGqSdWwMot",
      "metadata": {
        "id": "qQvGqSdWwMot"
      },
      "source": [
        "### 3.2 Loading the data"
      ]
    },
    {
      "cell_type": "markdown",
      "id": "eGxWNryHwvPW",
      "metadata": {
        "id": "eGxWNryHwvPW"
      },
      "source": [
        "The data was loaded using `os.listdir` method"
      ]
    },
    {
      "cell_type": "code",
      "execution_count": 3,
      "id": "9zyJrIyZeaNT",
      "metadata": {
        "colab": {
          "base_uri": "https://localhost:8080/"
        },
        "id": "9zyJrIyZeaNT",
        "outputId": "7d13488b-bda3-47b4-91e4-97687654273c"
      },
      "outputs": [
        {
          "output_type": "stream",
          "name": "stdout",
          "text": [
            "['NairobiSchoolDates2016.csv', 'Sample_Submission.csv', 'KenyaPublicHolidays2016.csv', 'train.csv', 'WeatherNairobi2016.xlsx', 'train.gsheet']\n"
          ]
        }
      ],
      "source": [
        "# print the contents of the mtoto news childline kenya folder \n",
        "\n",
        "print(os.listdir('/content/drive/Shareddrives/Eagles/mtoto_news_childline_kenya'))"
      ]
    },
    {
      "cell_type": "code",
      "execution_count": 4,
      "id": "7ae80cfa",
      "metadata": {
        "id": "7ae80cfa"
      },
      "outputs": [],
      "source": [
        "#store the file paths as variables\n",
        "\n",
        "weather_file = ('/content/drive/Shareddrives/Eagles/mtoto_news_childline_kenya/WeatherNairobi2016.xlsx')\n",
        "dates_file = ('/content/drive/Shareddrives/Eagles/mtoto_news_childline_kenya/NairobiSchoolDates2016.csv')\n",
        "holidays_file = ('/content/drive/Shareddrives/Eagles/mtoto_news_childline_kenya/KenyaPublicHolidays2016.csv')\n",
        "train_file = ('/content/drive/Shareddrives/Eagles/mtoto_news_childline_kenya/train.csv')"
      ]
    },
    {
      "cell_type": "markdown",
      "id": "boW1c9Gl1BEI",
      "metadata": {
        "id": "boW1c9Gl1BEI"
      },
      "source": [
        "View contents of the files"
      ]
    },
    {
      "cell_type": "code",
      "execution_count": 5,
      "id": "QKt9RTmQ1CJ6",
      "metadata": {
        "colab": {
          "base_uri": "https://localhost:8080/",
          "height": 364
        },
        "id": "QKt9RTmQ1CJ6",
        "outputId": "3b171265-84ef-486b-99e7-6c8f1431ab62"
      },
      "outputs": [
        {
          "output_type": "stream",
          "name": "stderr",
          "text": [
            "/usr/local/lib/python3.7/dist-packages/IPython/core/interactiveshell.py:3326: DtypeWarning: Columns (12,13,14,18) have mixed types.Specify dtype option on import or set low_memory=False.\n",
            "  exec(code_obj, self.user_global_ns, self.user_ns)\n"
          ]
        },
        {
          "output_type": "execute_result",
          "data": {
            "text/plain": [
              "              calldate cc_status             maincat     subcat1  \\\n",
              "0  2016-01-01 07:26:47    Closed  non-interventional  Blank call   \n",
              "1  2016-01-01 07:32:30    Closed  non-interventional  Blank call   \n",
              "2  2016-01-01 07:44:31    Closed  non-interventional  Blank call   \n",
              "\n",
              "   casepriority referal caller_gender caller_age caller_county child_age  \\\n",
              "0  Non Critical     NaN           NaN        NaN           NaN       NaN   \n",
              "1  Non Critical     NaN           NaN        NaN           NaN       NaN   \n",
              "2  Non Critical     NaN           NaN        NaN           NaN       NaN   \n",
              "\n",
              "  child_gender child_county parent_age parent_gender parent_county  \\\n",
              "0          NaN          NaN        NaN           NaN           NaN   \n",
              "1          NaN          NaN        NaN           NaN           NaN   \n",
              "2          NaN          NaN        NaN           NaN           NaN   \n",
              "\n",
              "  Abuser_Relationship Neglector_Relationship Perpetrator_Relationship  \\\n",
              "0                 NaN                    NaN                      NaN   \n",
              "1                 NaN                    NaN                      NaN   \n",
              "2                 NaN                    NaN                      NaN   \n",
              "\n",
              "  Physical abuser_Relationship  \n",
              "0                          NaN  \n",
              "1                          NaN  \n",
              "2                          NaN  "
            ],
            "text/html": [
              "\n",
              "  <div id=\"df-96850512-c676-4a50-b75c-b6bc44018265\">\n",
              "    <div class=\"colab-df-container\">\n",
              "      <div>\n",
              "<style scoped>\n",
              "    .dataframe tbody tr th:only-of-type {\n",
              "        vertical-align: middle;\n",
              "    }\n",
              "\n",
              "    .dataframe tbody tr th {\n",
              "        vertical-align: top;\n",
              "    }\n",
              "\n",
              "    .dataframe thead th {\n",
              "        text-align: right;\n",
              "    }\n",
              "</style>\n",
              "<table border=\"1\" class=\"dataframe\">\n",
              "  <thead>\n",
              "    <tr style=\"text-align: right;\">\n",
              "      <th></th>\n",
              "      <th>calldate</th>\n",
              "      <th>cc_status</th>\n",
              "      <th>maincat</th>\n",
              "      <th>subcat1</th>\n",
              "      <th>casepriority</th>\n",
              "      <th>referal</th>\n",
              "      <th>caller_gender</th>\n",
              "      <th>caller_age</th>\n",
              "      <th>caller_county</th>\n",
              "      <th>child_age</th>\n",
              "      <th>child_gender</th>\n",
              "      <th>child_county</th>\n",
              "      <th>parent_age</th>\n",
              "      <th>parent_gender</th>\n",
              "      <th>parent_county</th>\n",
              "      <th>Abuser_Relationship</th>\n",
              "      <th>Neglector_Relationship</th>\n",
              "      <th>Perpetrator_Relationship</th>\n",
              "      <th>Physical abuser_Relationship</th>\n",
              "    </tr>\n",
              "  </thead>\n",
              "  <tbody>\n",
              "    <tr>\n",
              "      <th>0</th>\n",
              "      <td>2016-01-01 07:26:47</td>\n",
              "      <td>Closed</td>\n",
              "      <td>non-interventional</td>\n",
              "      <td>Blank call</td>\n",
              "      <td>Non Critical</td>\n",
              "      <td>NaN</td>\n",
              "      <td>NaN</td>\n",
              "      <td>NaN</td>\n",
              "      <td>NaN</td>\n",
              "      <td>NaN</td>\n",
              "      <td>NaN</td>\n",
              "      <td>NaN</td>\n",
              "      <td>NaN</td>\n",
              "      <td>NaN</td>\n",
              "      <td>NaN</td>\n",
              "      <td>NaN</td>\n",
              "      <td>NaN</td>\n",
              "      <td>NaN</td>\n",
              "      <td>NaN</td>\n",
              "    </tr>\n",
              "    <tr>\n",
              "      <th>1</th>\n",
              "      <td>2016-01-01 07:32:30</td>\n",
              "      <td>Closed</td>\n",
              "      <td>non-interventional</td>\n",
              "      <td>Blank call</td>\n",
              "      <td>Non Critical</td>\n",
              "      <td>NaN</td>\n",
              "      <td>NaN</td>\n",
              "      <td>NaN</td>\n",
              "      <td>NaN</td>\n",
              "      <td>NaN</td>\n",
              "      <td>NaN</td>\n",
              "      <td>NaN</td>\n",
              "      <td>NaN</td>\n",
              "      <td>NaN</td>\n",
              "      <td>NaN</td>\n",
              "      <td>NaN</td>\n",
              "      <td>NaN</td>\n",
              "      <td>NaN</td>\n",
              "      <td>NaN</td>\n",
              "    </tr>\n",
              "    <tr>\n",
              "      <th>2</th>\n",
              "      <td>2016-01-01 07:44:31</td>\n",
              "      <td>Closed</td>\n",
              "      <td>non-interventional</td>\n",
              "      <td>Blank call</td>\n",
              "      <td>Non Critical</td>\n",
              "      <td>NaN</td>\n",
              "      <td>NaN</td>\n",
              "      <td>NaN</td>\n",
              "      <td>NaN</td>\n",
              "      <td>NaN</td>\n",
              "      <td>NaN</td>\n",
              "      <td>NaN</td>\n",
              "      <td>NaN</td>\n",
              "      <td>NaN</td>\n",
              "      <td>NaN</td>\n",
              "      <td>NaN</td>\n",
              "      <td>NaN</td>\n",
              "      <td>NaN</td>\n",
              "      <td>NaN</td>\n",
              "    </tr>\n",
              "  </tbody>\n",
              "</table>\n",
              "</div>\n",
              "      <button class=\"colab-df-convert\" onclick=\"convertToInteractive('df-96850512-c676-4a50-b75c-b6bc44018265')\"\n",
              "              title=\"Convert this dataframe to an interactive table.\"\n",
              "              style=\"display:none;\">\n",
              "        \n",
              "  <svg xmlns=\"http://www.w3.org/2000/svg\" height=\"24px\"viewBox=\"0 0 24 24\"\n",
              "       width=\"24px\">\n",
              "    <path d=\"M0 0h24v24H0V0z\" fill=\"none\"/>\n",
              "    <path d=\"M18.56 5.44l.94 2.06.94-2.06 2.06-.94-2.06-.94-.94-2.06-.94 2.06-2.06.94zm-11 1L8.5 8.5l.94-2.06 2.06-.94-2.06-.94L8.5 2.5l-.94 2.06-2.06.94zm10 10l.94 2.06.94-2.06 2.06-.94-2.06-.94-.94-2.06-.94 2.06-2.06.94z\"/><path d=\"M17.41 7.96l-1.37-1.37c-.4-.4-.92-.59-1.43-.59-.52 0-1.04.2-1.43.59L10.3 9.45l-7.72 7.72c-.78.78-.78 2.05 0 2.83L4 21.41c.39.39.9.59 1.41.59.51 0 1.02-.2 1.41-.59l7.78-7.78 2.81-2.81c.8-.78.8-2.07 0-2.86zM5.41 20L4 18.59l7.72-7.72 1.47 1.35L5.41 20z\"/>\n",
              "  </svg>\n",
              "      </button>\n",
              "      \n",
              "  <style>\n",
              "    .colab-df-container {\n",
              "      display:flex;\n",
              "      flex-wrap:wrap;\n",
              "      gap: 12px;\n",
              "    }\n",
              "\n",
              "    .colab-df-convert {\n",
              "      background-color: #E8F0FE;\n",
              "      border: none;\n",
              "      border-radius: 50%;\n",
              "      cursor: pointer;\n",
              "      display: none;\n",
              "      fill: #1967D2;\n",
              "      height: 32px;\n",
              "      padding: 0 0 0 0;\n",
              "      width: 32px;\n",
              "    }\n",
              "\n",
              "    .colab-df-convert:hover {\n",
              "      background-color: #E2EBFA;\n",
              "      box-shadow: 0px 1px 2px rgba(60, 64, 67, 0.3), 0px 1px 3px 1px rgba(60, 64, 67, 0.15);\n",
              "      fill: #174EA6;\n",
              "    }\n",
              "\n",
              "    [theme=dark] .colab-df-convert {\n",
              "      background-color: #3B4455;\n",
              "      fill: #D2E3FC;\n",
              "    }\n",
              "\n",
              "    [theme=dark] .colab-df-convert:hover {\n",
              "      background-color: #434B5C;\n",
              "      box-shadow: 0px 1px 3px 1px rgba(0, 0, 0, 0.15);\n",
              "      filter: drop-shadow(0px 1px 2px rgba(0, 0, 0, 0.3));\n",
              "      fill: #FFFFFF;\n",
              "    }\n",
              "  </style>\n",
              "\n",
              "      <script>\n",
              "        const buttonEl =\n",
              "          document.querySelector('#df-96850512-c676-4a50-b75c-b6bc44018265 button.colab-df-convert');\n",
              "        buttonEl.style.display =\n",
              "          google.colab.kernel.accessAllowed ? 'block' : 'none';\n",
              "\n",
              "        async function convertToInteractive(key) {\n",
              "          const element = document.querySelector('#df-96850512-c676-4a50-b75c-b6bc44018265');\n",
              "          const dataTable =\n",
              "            await google.colab.kernel.invokeFunction('convertToInteractive',\n",
              "                                                     [key], {});\n",
              "          if (!dataTable) return;\n",
              "\n",
              "          const docLinkHtml = 'Like what you see? Visit the ' +\n",
              "            '<a target=\"_blank\" href=https://colab.research.google.com/notebooks/data_table.ipynb>data table notebook</a>'\n",
              "            + ' to learn more about interactive tables.';\n",
              "          element.innerHTML = '';\n",
              "          dataTable['output_type'] = 'display_data';\n",
              "          await google.colab.output.renderOutput(dataTable, element);\n",
              "          const docLink = document.createElement('div');\n",
              "          docLink.innerHTML = docLinkHtml;\n",
              "          element.appendChild(docLink);\n",
              "        }\n",
              "      </script>\n",
              "    </div>\n",
              "  </div>\n",
              "  "
            ]
          },
          "metadata": {},
          "execution_count": 5
        }
      ],
      "source": [
        "#print the data in the train file \n",
        "\n",
        "train_data = pd.read_csv(train_file)\n",
        "train_data.head(3)"
      ]
    },
    {
      "cell_type": "code",
      "execution_count": 6,
      "id": "iwpgBVU61Ikt",
      "metadata": {
        "colab": {
          "base_uri": "https://localhost:8080/",
          "height": 144
        },
        "id": "iwpgBVU61Ikt",
        "outputId": "90ebe6f3-0c62-45e7-8448-e2d20da4b10b"
      },
      "outputs": [
        {
          "output_type": "execute_result",
          "data": {
            "text/plain": [
              "   Term     Opening     Closing  Unnamed: 3  Unnamed: 4  \\\n",
              "0     1  2016-01-04  2016-04-08         NaN         NaN   \n",
              "1     2  2016-05-02  2016-08-05         NaN         NaN   \n",
              "2     3  2016-09-05  2016-11-18         NaN         NaN   \n",
              "\n",
              "                                          Unnamed: 5  \n",
              "0                                    *year/month/day  \n",
              "1  https://www.standardmedia.co.ke/article/200018...  \n",
              "2                                                NaN  "
            ],
            "text/html": [
              "\n",
              "  <div id=\"df-9c2df871-c11b-4e1d-9788-d94fdfcb2b5b\">\n",
              "    <div class=\"colab-df-container\">\n",
              "      <div>\n",
              "<style scoped>\n",
              "    .dataframe tbody tr th:only-of-type {\n",
              "        vertical-align: middle;\n",
              "    }\n",
              "\n",
              "    .dataframe tbody tr th {\n",
              "        vertical-align: top;\n",
              "    }\n",
              "\n",
              "    .dataframe thead th {\n",
              "        text-align: right;\n",
              "    }\n",
              "</style>\n",
              "<table border=\"1\" class=\"dataframe\">\n",
              "  <thead>\n",
              "    <tr style=\"text-align: right;\">\n",
              "      <th></th>\n",
              "      <th>Term</th>\n",
              "      <th>Opening</th>\n",
              "      <th>Closing</th>\n",
              "      <th>Unnamed: 3</th>\n",
              "      <th>Unnamed: 4</th>\n",
              "      <th>Unnamed: 5</th>\n",
              "    </tr>\n",
              "  </thead>\n",
              "  <tbody>\n",
              "    <tr>\n",
              "      <th>0</th>\n",
              "      <td>1</td>\n",
              "      <td>2016-01-04</td>\n",
              "      <td>2016-04-08</td>\n",
              "      <td>NaN</td>\n",
              "      <td>NaN</td>\n",
              "      <td>*year/month/day</td>\n",
              "    </tr>\n",
              "    <tr>\n",
              "      <th>1</th>\n",
              "      <td>2</td>\n",
              "      <td>2016-05-02</td>\n",
              "      <td>2016-08-05</td>\n",
              "      <td>NaN</td>\n",
              "      <td>NaN</td>\n",
              "      <td>https://www.standardmedia.co.ke/article/200018...</td>\n",
              "    </tr>\n",
              "    <tr>\n",
              "      <th>2</th>\n",
              "      <td>3</td>\n",
              "      <td>2016-09-05</td>\n",
              "      <td>2016-11-18</td>\n",
              "      <td>NaN</td>\n",
              "      <td>NaN</td>\n",
              "      <td>NaN</td>\n",
              "    </tr>\n",
              "  </tbody>\n",
              "</table>\n",
              "</div>\n",
              "      <button class=\"colab-df-convert\" onclick=\"convertToInteractive('df-9c2df871-c11b-4e1d-9788-d94fdfcb2b5b')\"\n",
              "              title=\"Convert this dataframe to an interactive table.\"\n",
              "              style=\"display:none;\">\n",
              "        \n",
              "  <svg xmlns=\"http://www.w3.org/2000/svg\" height=\"24px\"viewBox=\"0 0 24 24\"\n",
              "       width=\"24px\">\n",
              "    <path d=\"M0 0h24v24H0V0z\" fill=\"none\"/>\n",
              "    <path d=\"M18.56 5.44l.94 2.06.94-2.06 2.06-.94-2.06-.94-.94-2.06-.94 2.06-2.06.94zm-11 1L8.5 8.5l.94-2.06 2.06-.94-2.06-.94L8.5 2.5l-.94 2.06-2.06.94zm10 10l.94 2.06.94-2.06 2.06-.94-2.06-.94-.94-2.06-.94 2.06-2.06.94z\"/><path d=\"M17.41 7.96l-1.37-1.37c-.4-.4-.92-.59-1.43-.59-.52 0-1.04.2-1.43.59L10.3 9.45l-7.72 7.72c-.78.78-.78 2.05 0 2.83L4 21.41c.39.39.9.59 1.41.59.51 0 1.02-.2 1.41-.59l7.78-7.78 2.81-2.81c.8-.78.8-2.07 0-2.86zM5.41 20L4 18.59l7.72-7.72 1.47 1.35L5.41 20z\"/>\n",
              "  </svg>\n",
              "      </button>\n",
              "      \n",
              "  <style>\n",
              "    .colab-df-container {\n",
              "      display:flex;\n",
              "      flex-wrap:wrap;\n",
              "      gap: 12px;\n",
              "    }\n",
              "\n",
              "    .colab-df-convert {\n",
              "      background-color: #E8F0FE;\n",
              "      border: none;\n",
              "      border-radius: 50%;\n",
              "      cursor: pointer;\n",
              "      display: none;\n",
              "      fill: #1967D2;\n",
              "      height: 32px;\n",
              "      padding: 0 0 0 0;\n",
              "      width: 32px;\n",
              "    }\n",
              "\n",
              "    .colab-df-convert:hover {\n",
              "      background-color: #E2EBFA;\n",
              "      box-shadow: 0px 1px 2px rgba(60, 64, 67, 0.3), 0px 1px 3px 1px rgba(60, 64, 67, 0.15);\n",
              "      fill: #174EA6;\n",
              "    }\n",
              "\n",
              "    [theme=dark] .colab-df-convert {\n",
              "      background-color: #3B4455;\n",
              "      fill: #D2E3FC;\n",
              "    }\n",
              "\n",
              "    [theme=dark] .colab-df-convert:hover {\n",
              "      background-color: #434B5C;\n",
              "      box-shadow: 0px 1px 3px 1px rgba(0, 0, 0, 0.15);\n",
              "      filter: drop-shadow(0px 1px 2px rgba(0, 0, 0, 0.3));\n",
              "      fill: #FFFFFF;\n",
              "    }\n",
              "  </style>\n",
              "\n",
              "      <script>\n",
              "        const buttonEl =\n",
              "          document.querySelector('#df-9c2df871-c11b-4e1d-9788-d94fdfcb2b5b button.colab-df-convert');\n",
              "        buttonEl.style.display =\n",
              "          google.colab.kernel.accessAllowed ? 'block' : 'none';\n",
              "\n",
              "        async function convertToInteractive(key) {\n",
              "          const element = document.querySelector('#df-9c2df871-c11b-4e1d-9788-d94fdfcb2b5b');\n",
              "          const dataTable =\n",
              "            await google.colab.kernel.invokeFunction('convertToInteractive',\n",
              "                                                     [key], {});\n",
              "          if (!dataTable) return;\n",
              "\n",
              "          const docLinkHtml = 'Like what you see? Visit the ' +\n",
              "            '<a target=\"_blank\" href=https://colab.research.google.com/notebooks/data_table.ipynb>data table notebook</a>'\n",
              "            + ' to learn more about interactive tables.';\n",
              "          element.innerHTML = '';\n",
              "          dataTable['output_type'] = 'display_data';\n",
              "          await google.colab.output.renderOutput(dataTable, element);\n",
              "          const docLink = document.createElement('div');\n",
              "          docLink.innerHTML = docLinkHtml;\n",
              "          element.appendChild(docLink);\n",
              "        }\n",
              "      </script>\n",
              "    </div>\n",
              "  </div>\n",
              "  "
            ]
          },
          "metadata": {},
          "execution_count": 6
        }
      ],
      "source": [
        "#print the data in the dates file \n",
        "\n",
        "date_data = pd.read_csv(dates_file)\n",
        "date_data.head(3)"
      ]
    },
    {
      "cell_type": "code",
      "execution_count": 7,
      "id": "N6aqydst1Mxj",
      "metadata": {
        "colab": {
          "base_uri": "https://localhost:8080/",
          "height": 206
        },
        "id": "N6aqydst1Mxj",
        "outputId": "cd25b28c-7fc9-4cfe-8cc2-77524bc6abe1"
      },
      "outputs": [
        {
          "output_type": "execute_result",
          "data": {
            "text/plain": [
              "         Date              Holiday Unnamed: 2\n",
              "0  2016/01/01        New Years Day        NaN\n",
              "1  2016/03/25          Good Friday        NaN\n",
              "2  2016/03/28        Easter Monday        NaN\n",
              "3  2016/05/01           Labour Day        NaN\n",
              "4  2016/05/02  Labour Day observed        NaN"
            ],
            "text/html": [
              "\n",
              "  <div id=\"df-9779aa3e-c83c-411d-9934-25ad9517a8fa\">\n",
              "    <div class=\"colab-df-container\">\n",
              "      <div>\n",
              "<style scoped>\n",
              "    .dataframe tbody tr th:only-of-type {\n",
              "        vertical-align: middle;\n",
              "    }\n",
              "\n",
              "    .dataframe tbody tr th {\n",
              "        vertical-align: top;\n",
              "    }\n",
              "\n",
              "    .dataframe thead th {\n",
              "        text-align: right;\n",
              "    }\n",
              "</style>\n",
              "<table border=\"1\" class=\"dataframe\">\n",
              "  <thead>\n",
              "    <tr style=\"text-align: right;\">\n",
              "      <th></th>\n",
              "      <th>Date</th>\n",
              "      <th>Holiday</th>\n",
              "      <th>Unnamed: 2</th>\n",
              "    </tr>\n",
              "  </thead>\n",
              "  <tbody>\n",
              "    <tr>\n",
              "      <th>0</th>\n",
              "      <td>2016/01/01</td>\n",
              "      <td>New Years Day</td>\n",
              "      <td>NaN</td>\n",
              "    </tr>\n",
              "    <tr>\n",
              "      <th>1</th>\n",
              "      <td>2016/03/25</td>\n",
              "      <td>Good Friday</td>\n",
              "      <td>NaN</td>\n",
              "    </tr>\n",
              "    <tr>\n",
              "      <th>2</th>\n",
              "      <td>2016/03/28</td>\n",
              "      <td>Easter Monday</td>\n",
              "      <td>NaN</td>\n",
              "    </tr>\n",
              "    <tr>\n",
              "      <th>3</th>\n",
              "      <td>2016/05/01</td>\n",
              "      <td>Labour Day</td>\n",
              "      <td>NaN</td>\n",
              "    </tr>\n",
              "    <tr>\n",
              "      <th>4</th>\n",
              "      <td>2016/05/02</td>\n",
              "      <td>Labour Day observed</td>\n",
              "      <td>NaN</td>\n",
              "    </tr>\n",
              "  </tbody>\n",
              "</table>\n",
              "</div>\n",
              "      <button class=\"colab-df-convert\" onclick=\"convertToInteractive('df-9779aa3e-c83c-411d-9934-25ad9517a8fa')\"\n",
              "              title=\"Convert this dataframe to an interactive table.\"\n",
              "              style=\"display:none;\">\n",
              "        \n",
              "  <svg xmlns=\"http://www.w3.org/2000/svg\" height=\"24px\"viewBox=\"0 0 24 24\"\n",
              "       width=\"24px\">\n",
              "    <path d=\"M0 0h24v24H0V0z\" fill=\"none\"/>\n",
              "    <path d=\"M18.56 5.44l.94 2.06.94-2.06 2.06-.94-2.06-.94-.94-2.06-.94 2.06-2.06.94zm-11 1L8.5 8.5l.94-2.06 2.06-.94-2.06-.94L8.5 2.5l-.94 2.06-2.06.94zm10 10l.94 2.06.94-2.06 2.06-.94-2.06-.94-.94-2.06-.94 2.06-2.06.94z\"/><path d=\"M17.41 7.96l-1.37-1.37c-.4-.4-.92-.59-1.43-.59-.52 0-1.04.2-1.43.59L10.3 9.45l-7.72 7.72c-.78.78-.78 2.05 0 2.83L4 21.41c.39.39.9.59 1.41.59.51 0 1.02-.2 1.41-.59l7.78-7.78 2.81-2.81c.8-.78.8-2.07 0-2.86zM5.41 20L4 18.59l7.72-7.72 1.47 1.35L5.41 20z\"/>\n",
              "  </svg>\n",
              "      </button>\n",
              "      \n",
              "  <style>\n",
              "    .colab-df-container {\n",
              "      display:flex;\n",
              "      flex-wrap:wrap;\n",
              "      gap: 12px;\n",
              "    }\n",
              "\n",
              "    .colab-df-convert {\n",
              "      background-color: #E8F0FE;\n",
              "      border: none;\n",
              "      border-radius: 50%;\n",
              "      cursor: pointer;\n",
              "      display: none;\n",
              "      fill: #1967D2;\n",
              "      height: 32px;\n",
              "      padding: 0 0 0 0;\n",
              "      width: 32px;\n",
              "    }\n",
              "\n",
              "    .colab-df-convert:hover {\n",
              "      background-color: #E2EBFA;\n",
              "      box-shadow: 0px 1px 2px rgba(60, 64, 67, 0.3), 0px 1px 3px 1px rgba(60, 64, 67, 0.15);\n",
              "      fill: #174EA6;\n",
              "    }\n",
              "\n",
              "    [theme=dark] .colab-df-convert {\n",
              "      background-color: #3B4455;\n",
              "      fill: #D2E3FC;\n",
              "    }\n",
              "\n",
              "    [theme=dark] .colab-df-convert:hover {\n",
              "      background-color: #434B5C;\n",
              "      box-shadow: 0px 1px 3px 1px rgba(0, 0, 0, 0.15);\n",
              "      filter: drop-shadow(0px 1px 2px rgba(0, 0, 0, 0.3));\n",
              "      fill: #FFFFFF;\n",
              "    }\n",
              "  </style>\n",
              "\n",
              "      <script>\n",
              "        const buttonEl =\n",
              "          document.querySelector('#df-9779aa3e-c83c-411d-9934-25ad9517a8fa button.colab-df-convert');\n",
              "        buttonEl.style.display =\n",
              "          google.colab.kernel.accessAllowed ? 'block' : 'none';\n",
              "\n",
              "        async function convertToInteractive(key) {\n",
              "          const element = document.querySelector('#df-9779aa3e-c83c-411d-9934-25ad9517a8fa');\n",
              "          const dataTable =\n",
              "            await google.colab.kernel.invokeFunction('convertToInteractive',\n",
              "                                                     [key], {});\n",
              "          if (!dataTable) return;\n",
              "\n",
              "          const docLinkHtml = 'Like what you see? Visit the ' +\n",
              "            '<a target=\"_blank\" href=https://colab.research.google.com/notebooks/data_table.ipynb>data table notebook</a>'\n",
              "            + ' to learn more about interactive tables.';\n",
              "          element.innerHTML = '';\n",
              "          dataTable['output_type'] = 'display_data';\n",
              "          await google.colab.output.renderOutput(dataTable, element);\n",
              "          const docLink = document.createElement('div');\n",
              "          docLink.innerHTML = docLinkHtml;\n",
              "          element.appendChild(docLink);\n",
              "        }\n",
              "      </script>\n",
              "    </div>\n",
              "  </div>\n",
              "  "
            ]
          },
          "metadata": {},
          "execution_count": 7
        }
      ],
      "source": [
        "#print the data in the holidays file \n",
        "\n",
        "holiday_data = pd.read_csv(holidays_file, skiprows= 2)\n",
        "holiday_data.head()"
      ]
    },
    {
      "cell_type": "code",
      "execution_count": 8,
      "id": "fLpAK83u1RjV",
      "metadata": {
        "id": "fLpAK83u1RjV"
      },
      "outputs": [],
      "source": [
        "# uncomment following line to install pandas update of xlrd\n",
        "# !pip install --upgrade xlrd\n",
        "weather_data= pd.read_excel(weather_file, skiprows= 6)"
      ]
    },
    {
      "cell_type": "code",
      "execution_count": 9,
      "id": "GFeqJ1Je1UR9",
      "metadata": {
        "colab": {
          "base_uri": "https://localhost:8080/",
          "height": 575
        },
        "id": "GFeqJ1Je1UR9",
        "outputId": "62f06c0c-1b65-40cd-80dc-7e5843593682"
      },
      "outputs": [
        {
          "output_type": "execute_result",
          "data": {
            "text/plain": [
              "  Local time in Nairobi (airport)     T  Po   P  Pa     U  \\\n",
              "0                31.12.2016 21:00  20.2 NaN NaN NaN  68.0   \n",
              "1                31.12.2016 15:00  26.0 NaN NaN NaN  40.0   \n",
              "2                31.12.2016 09:00  18.8 NaN NaN NaN  85.0   \n",
              "3                30.12.2016 21:00  19.5 NaN NaN NaN  79.0   \n",
              "4                30.12.2016 15:00  24.5 NaN NaN NaN  56.0   \n",
              "\n",
              "                                      DD   Ff  ff10  ff3  ...  \\\n",
              "0   Wind blowing from the east-northeast  8.0   NaN  NaN  ...   \n",
              "1       Wind blowing from the north-east  9.0   NaN  NaN  ...   \n",
              "2  Wind blowing from the north-northeast  5.0   NaN  NaN  ...   \n",
              "3   Wind blowing from the east-northeast  4.0   NaN  NaN  ...   \n",
              "4   Wind blowing from the east-northeast  7.0   NaN  NaN  ...   \n",
              "\n",
              "                                             Cm  \\\n",
              "0   Altocumulus translucidus at a single level.   \n",
              "1  No Altocumulus, Altostratus or Nimbostratus.   \n",
              "2   Altocumulus translucidus at a single level.   \n",
              "3   Altocumulus translucidus at a single level.   \n",
              "4   Altocumulus translucidus at a single level.   \n",
              "\n",
              "                                         Ch    VV    Td  \\\n",
              "0  No Cirrus, Cirrocumulus or Cirrostratus.  30.0  14.0   \n",
              "1  No Cirrus, Cirrocumulus or Cirrostratus.  30.0  11.2   \n",
              "2  No Cirrus, Cirrocumulus or Cirrostratus.  25.0  16.2   \n",
              "3  No Cirrus, Cirrocumulus or Cirrostratus.  20.0  15.8   \n",
              "4      Cirrus spissatus cumulonimbogenitus.  30.0  15.1   \n",
              "\n",
              "                      RRR    tR   E  Tg  E' sss  \n",
              "0                     NaN   NaN NaN NaN NaN NaN  \n",
              "1                     NaN   NaN NaN NaN NaN NaN  \n",
              "2  Trace of precipitation  24.0 NaN NaN NaN NaN  \n",
              "3                     NaN   NaN NaN NaN NaN NaN  \n",
              "4                     NaN   NaN NaN NaN NaN NaN  \n",
              "\n",
              "[5 rows x 29 columns]"
            ],
            "text/html": [
              "\n",
              "  <div id=\"df-e82512ac-9690-4a68-b935-2a984f4b118f\">\n",
              "    <div class=\"colab-df-container\">\n",
              "      <div>\n",
              "<style scoped>\n",
              "    .dataframe tbody tr th:only-of-type {\n",
              "        vertical-align: middle;\n",
              "    }\n",
              "\n",
              "    .dataframe tbody tr th {\n",
              "        vertical-align: top;\n",
              "    }\n",
              "\n",
              "    .dataframe thead th {\n",
              "        text-align: right;\n",
              "    }\n",
              "</style>\n",
              "<table border=\"1\" class=\"dataframe\">\n",
              "  <thead>\n",
              "    <tr style=\"text-align: right;\">\n",
              "      <th></th>\n",
              "      <th>Local time in Nairobi (airport)</th>\n",
              "      <th>T</th>\n",
              "      <th>Po</th>\n",
              "      <th>P</th>\n",
              "      <th>Pa</th>\n",
              "      <th>U</th>\n",
              "      <th>DD</th>\n",
              "      <th>Ff</th>\n",
              "      <th>ff10</th>\n",
              "      <th>ff3</th>\n",
              "      <th>...</th>\n",
              "      <th>Cm</th>\n",
              "      <th>Ch</th>\n",
              "      <th>VV</th>\n",
              "      <th>Td</th>\n",
              "      <th>RRR</th>\n",
              "      <th>tR</th>\n",
              "      <th>E</th>\n",
              "      <th>Tg</th>\n",
              "      <th>E'</th>\n",
              "      <th>sss</th>\n",
              "    </tr>\n",
              "  </thead>\n",
              "  <tbody>\n",
              "    <tr>\n",
              "      <th>0</th>\n",
              "      <td>31.12.2016 21:00</td>\n",
              "      <td>20.2</td>\n",
              "      <td>NaN</td>\n",
              "      <td>NaN</td>\n",
              "      <td>NaN</td>\n",
              "      <td>68.0</td>\n",
              "      <td>Wind blowing from the east-northeast</td>\n",
              "      <td>8.0</td>\n",
              "      <td>NaN</td>\n",
              "      <td>NaN</td>\n",
              "      <td>...</td>\n",
              "      <td>Altocumulus translucidus at a single level.</td>\n",
              "      <td>No Cirrus, Cirrocumulus or Cirrostratus.</td>\n",
              "      <td>30.0</td>\n",
              "      <td>14.0</td>\n",
              "      <td>NaN</td>\n",
              "      <td>NaN</td>\n",
              "      <td>NaN</td>\n",
              "      <td>NaN</td>\n",
              "      <td>NaN</td>\n",
              "      <td>NaN</td>\n",
              "    </tr>\n",
              "    <tr>\n",
              "      <th>1</th>\n",
              "      <td>31.12.2016 15:00</td>\n",
              "      <td>26.0</td>\n",
              "      <td>NaN</td>\n",
              "      <td>NaN</td>\n",
              "      <td>NaN</td>\n",
              "      <td>40.0</td>\n",
              "      <td>Wind blowing from the north-east</td>\n",
              "      <td>9.0</td>\n",
              "      <td>NaN</td>\n",
              "      <td>NaN</td>\n",
              "      <td>...</td>\n",
              "      <td>No Altocumulus, Altostratus or Nimbostratus.</td>\n",
              "      <td>No Cirrus, Cirrocumulus or Cirrostratus.</td>\n",
              "      <td>30.0</td>\n",
              "      <td>11.2</td>\n",
              "      <td>NaN</td>\n",
              "      <td>NaN</td>\n",
              "      <td>NaN</td>\n",
              "      <td>NaN</td>\n",
              "      <td>NaN</td>\n",
              "      <td>NaN</td>\n",
              "    </tr>\n",
              "    <tr>\n",
              "      <th>2</th>\n",
              "      <td>31.12.2016 09:00</td>\n",
              "      <td>18.8</td>\n",
              "      <td>NaN</td>\n",
              "      <td>NaN</td>\n",
              "      <td>NaN</td>\n",
              "      <td>85.0</td>\n",
              "      <td>Wind blowing from the north-northeast</td>\n",
              "      <td>5.0</td>\n",
              "      <td>NaN</td>\n",
              "      <td>NaN</td>\n",
              "      <td>...</td>\n",
              "      <td>Altocumulus translucidus at a single level.</td>\n",
              "      <td>No Cirrus, Cirrocumulus or Cirrostratus.</td>\n",
              "      <td>25.0</td>\n",
              "      <td>16.2</td>\n",
              "      <td>Trace of precipitation</td>\n",
              "      <td>24.0</td>\n",
              "      <td>NaN</td>\n",
              "      <td>NaN</td>\n",
              "      <td>NaN</td>\n",
              "      <td>NaN</td>\n",
              "    </tr>\n",
              "    <tr>\n",
              "      <th>3</th>\n",
              "      <td>30.12.2016 21:00</td>\n",
              "      <td>19.5</td>\n",
              "      <td>NaN</td>\n",
              "      <td>NaN</td>\n",
              "      <td>NaN</td>\n",
              "      <td>79.0</td>\n",
              "      <td>Wind blowing from the east-northeast</td>\n",
              "      <td>4.0</td>\n",
              "      <td>NaN</td>\n",
              "      <td>NaN</td>\n",
              "      <td>...</td>\n",
              "      <td>Altocumulus translucidus at a single level.</td>\n",
              "      <td>No Cirrus, Cirrocumulus or Cirrostratus.</td>\n",
              "      <td>20.0</td>\n",
              "      <td>15.8</td>\n",
              "      <td>NaN</td>\n",
              "      <td>NaN</td>\n",
              "      <td>NaN</td>\n",
              "      <td>NaN</td>\n",
              "      <td>NaN</td>\n",
              "      <td>NaN</td>\n",
              "    </tr>\n",
              "    <tr>\n",
              "      <th>4</th>\n",
              "      <td>30.12.2016 15:00</td>\n",
              "      <td>24.5</td>\n",
              "      <td>NaN</td>\n",
              "      <td>NaN</td>\n",
              "      <td>NaN</td>\n",
              "      <td>56.0</td>\n",
              "      <td>Wind blowing from the east-northeast</td>\n",
              "      <td>7.0</td>\n",
              "      <td>NaN</td>\n",
              "      <td>NaN</td>\n",
              "      <td>...</td>\n",
              "      <td>Altocumulus translucidus at a single level.</td>\n",
              "      <td>Cirrus spissatus cumulonimbogenitus.</td>\n",
              "      <td>30.0</td>\n",
              "      <td>15.1</td>\n",
              "      <td>NaN</td>\n",
              "      <td>NaN</td>\n",
              "      <td>NaN</td>\n",
              "      <td>NaN</td>\n",
              "      <td>NaN</td>\n",
              "      <td>NaN</td>\n",
              "    </tr>\n",
              "  </tbody>\n",
              "</table>\n",
              "<p>5 rows × 29 columns</p>\n",
              "</div>\n",
              "      <button class=\"colab-df-convert\" onclick=\"convertToInteractive('df-e82512ac-9690-4a68-b935-2a984f4b118f')\"\n",
              "              title=\"Convert this dataframe to an interactive table.\"\n",
              "              style=\"display:none;\">\n",
              "        \n",
              "  <svg xmlns=\"http://www.w3.org/2000/svg\" height=\"24px\"viewBox=\"0 0 24 24\"\n",
              "       width=\"24px\">\n",
              "    <path d=\"M0 0h24v24H0V0z\" fill=\"none\"/>\n",
              "    <path d=\"M18.56 5.44l.94 2.06.94-2.06 2.06-.94-2.06-.94-.94-2.06-.94 2.06-2.06.94zm-11 1L8.5 8.5l.94-2.06 2.06-.94-2.06-.94L8.5 2.5l-.94 2.06-2.06.94zm10 10l.94 2.06.94-2.06 2.06-.94-2.06-.94-.94-2.06-.94 2.06-2.06.94z\"/><path d=\"M17.41 7.96l-1.37-1.37c-.4-.4-.92-.59-1.43-.59-.52 0-1.04.2-1.43.59L10.3 9.45l-7.72 7.72c-.78.78-.78 2.05 0 2.83L4 21.41c.39.39.9.59 1.41.59.51 0 1.02-.2 1.41-.59l7.78-7.78 2.81-2.81c.8-.78.8-2.07 0-2.86zM5.41 20L4 18.59l7.72-7.72 1.47 1.35L5.41 20z\"/>\n",
              "  </svg>\n",
              "      </button>\n",
              "      \n",
              "  <style>\n",
              "    .colab-df-container {\n",
              "      display:flex;\n",
              "      flex-wrap:wrap;\n",
              "      gap: 12px;\n",
              "    }\n",
              "\n",
              "    .colab-df-convert {\n",
              "      background-color: #E8F0FE;\n",
              "      border: none;\n",
              "      border-radius: 50%;\n",
              "      cursor: pointer;\n",
              "      display: none;\n",
              "      fill: #1967D2;\n",
              "      height: 32px;\n",
              "      padding: 0 0 0 0;\n",
              "      width: 32px;\n",
              "    }\n",
              "\n",
              "    .colab-df-convert:hover {\n",
              "      background-color: #E2EBFA;\n",
              "      box-shadow: 0px 1px 2px rgba(60, 64, 67, 0.3), 0px 1px 3px 1px rgba(60, 64, 67, 0.15);\n",
              "      fill: #174EA6;\n",
              "    }\n",
              "\n",
              "    [theme=dark] .colab-df-convert {\n",
              "      background-color: #3B4455;\n",
              "      fill: #D2E3FC;\n",
              "    }\n",
              "\n",
              "    [theme=dark] .colab-df-convert:hover {\n",
              "      background-color: #434B5C;\n",
              "      box-shadow: 0px 1px 3px 1px rgba(0, 0, 0, 0.15);\n",
              "      filter: drop-shadow(0px 1px 2px rgba(0, 0, 0, 0.3));\n",
              "      fill: #FFFFFF;\n",
              "    }\n",
              "  </style>\n",
              "\n",
              "      <script>\n",
              "        const buttonEl =\n",
              "          document.querySelector('#df-e82512ac-9690-4a68-b935-2a984f4b118f button.colab-df-convert');\n",
              "        buttonEl.style.display =\n",
              "          google.colab.kernel.accessAllowed ? 'block' : 'none';\n",
              "\n",
              "        async function convertToInteractive(key) {\n",
              "          const element = document.querySelector('#df-e82512ac-9690-4a68-b935-2a984f4b118f');\n",
              "          const dataTable =\n",
              "            await google.colab.kernel.invokeFunction('convertToInteractive',\n",
              "                                                     [key], {});\n",
              "          if (!dataTable) return;\n",
              "\n",
              "          const docLinkHtml = 'Like what you see? Visit the ' +\n",
              "            '<a target=\"_blank\" href=https://colab.research.google.com/notebooks/data_table.ipynb>data table notebook</a>'\n",
              "            + ' to learn more about interactive tables.';\n",
              "          element.innerHTML = '';\n",
              "          dataTable['output_type'] = 'display_data';\n",
              "          await google.colab.output.renderOutput(dataTable, element);\n",
              "          const docLink = document.createElement('div');\n",
              "          docLink.innerHTML = docLinkHtml;\n",
              "          element.appendChild(docLink);\n",
              "        }\n",
              "      </script>\n",
              "    </div>\n",
              "  </div>\n",
              "  "
            ]
          },
          "metadata": {},
          "execution_count": 9
        }
      ],
      "source": [
        "weather_data.head()"
      ]
    },
    {
      "cell_type": "code",
      "execution_count": 10,
      "id": "24uSjpwI1VhW",
      "metadata": {
        "colab": {
          "base_uri": "https://localhost:8080/"
        },
        "id": "24uSjpwI1VhW",
        "outputId": "879364ca-2106-49e1-e5b1-9cf6418583a3"
      },
      "outputs": [
        {
          "output_type": "execute_result",
          "data": {
            "text/plain": [
              "array(['non-interventional', 'others', 'general_information',\n",
              "       'family_community_society', 'health_basic_needs', 'sexuality',\n",
              "       'abuse', 'education_career'], dtype=object)"
            ]
          },
          "metadata": {},
          "execution_count": 10
        }
      ],
      "source": [
        "train_data['maincat'].unique()"
      ]
    },
    {
      "cell_type": "markdown",
      "id": "YwuFkiKm1ZWY",
      "metadata": {
        "id": "YwuFkiKm1ZWY"
      },
      "source": [
        "### 3.3 Data Cleaning"
      ]
    },
    {
      "cell_type": "markdown",
      "source": [
        "#### 3.3.0 Train data Cleaning"
      ],
      "metadata": {
        "id": "BTAcqdfIi4o8"
      },
      "id": "BTAcqdfIi4o8"
    },
    {
      "cell_type": "markdown",
      "source": [
        "Checking for \n",
        "\n",
        "1.   Validity\n",
        "2.   Completenes\n",
        "3.   Consistency\n",
        "4.   Uniformity\n",
        "\n"
      ],
      "metadata": {
        "id": "SLtpIw1xZRLJ"
      },
      "id": "SLtpIw1xZRLJ"
    },
    {
      "cell_type": "markdown",
      "source": [
        "##### 3.3.1 Data Validity\n",
        "\n",
        "\n",
        "*   Checking for the validity of data in the train_data\n",
        "*   Removing  irrelevant columns \n",
        "*   Merging columns with same information \n",
        "\n"
      ],
      "metadata": {
        "id": "Vh0iiROnZgrK"
      },
      "id": "Vh0iiROnZgrK"
    },
    {
      "cell_type": "code",
      "execution_count": 11,
      "id": "2Y1Oh5B71c-A",
      "metadata": {
        "id": "2Y1Oh5B71c-A"
      },
      "outputs": [],
      "source": [
        "# remove the last column since it has irrelevant info\n",
        "holiday_data.drop('Unnamed: 2',axis= 1, inplace= True)"
      ]
    },
    {
      "cell_type": "code",
      "execution_count": 12,
      "id": "zf9OpNYS1q_P",
      "metadata": {
        "colab": {
          "base_uri": "https://localhost:8080/",
          "height": 206
        },
        "id": "zf9OpNYS1q_P",
        "outputId": "f546f74a-1bac-4c24-e37b-58f71d672c4b"
      },
      "outputs": [
        {
          "output_type": "execute_result",
          "data": {
            "text/plain": [
              "         Date              Holiday\n",
              "0  2016/01/01        New Years Day\n",
              "1  2016/03/25          Good Friday\n",
              "2  2016/03/28        Easter Monday\n",
              "3  2016/05/01           Labour Day\n",
              "4  2016/05/02  Labour Day observed"
            ],
            "text/html": [
              "\n",
              "  <div id=\"df-1b6b5d18-6308-48bf-8305-f03505daad8d\">\n",
              "    <div class=\"colab-df-container\">\n",
              "      <div>\n",
              "<style scoped>\n",
              "    .dataframe tbody tr th:only-of-type {\n",
              "        vertical-align: middle;\n",
              "    }\n",
              "\n",
              "    .dataframe tbody tr th {\n",
              "        vertical-align: top;\n",
              "    }\n",
              "\n",
              "    .dataframe thead th {\n",
              "        text-align: right;\n",
              "    }\n",
              "</style>\n",
              "<table border=\"1\" class=\"dataframe\">\n",
              "  <thead>\n",
              "    <tr style=\"text-align: right;\">\n",
              "      <th></th>\n",
              "      <th>Date</th>\n",
              "      <th>Holiday</th>\n",
              "    </tr>\n",
              "  </thead>\n",
              "  <tbody>\n",
              "    <tr>\n",
              "      <th>0</th>\n",
              "      <td>2016/01/01</td>\n",
              "      <td>New Years Day</td>\n",
              "    </tr>\n",
              "    <tr>\n",
              "      <th>1</th>\n",
              "      <td>2016/03/25</td>\n",
              "      <td>Good Friday</td>\n",
              "    </tr>\n",
              "    <tr>\n",
              "      <th>2</th>\n",
              "      <td>2016/03/28</td>\n",
              "      <td>Easter Monday</td>\n",
              "    </tr>\n",
              "    <tr>\n",
              "      <th>3</th>\n",
              "      <td>2016/05/01</td>\n",
              "      <td>Labour Day</td>\n",
              "    </tr>\n",
              "    <tr>\n",
              "      <th>4</th>\n",
              "      <td>2016/05/02</td>\n",
              "      <td>Labour Day observed</td>\n",
              "    </tr>\n",
              "  </tbody>\n",
              "</table>\n",
              "</div>\n",
              "      <button class=\"colab-df-convert\" onclick=\"convertToInteractive('df-1b6b5d18-6308-48bf-8305-f03505daad8d')\"\n",
              "              title=\"Convert this dataframe to an interactive table.\"\n",
              "              style=\"display:none;\">\n",
              "        \n",
              "  <svg xmlns=\"http://www.w3.org/2000/svg\" height=\"24px\"viewBox=\"0 0 24 24\"\n",
              "       width=\"24px\">\n",
              "    <path d=\"M0 0h24v24H0V0z\" fill=\"none\"/>\n",
              "    <path d=\"M18.56 5.44l.94 2.06.94-2.06 2.06-.94-2.06-.94-.94-2.06-.94 2.06-2.06.94zm-11 1L8.5 8.5l.94-2.06 2.06-.94-2.06-.94L8.5 2.5l-.94 2.06-2.06.94zm10 10l.94 2.06.94-2.06 2.06-.94-2.06-.94-.94-2.06-.94 2.06-2.06.94z\"/><path d=\"M17.41 7.96l-1.37-1.37c-.4-.4-.92-.59-1.43-.59-.52 0-1.04.2-1.43.59L10.3 9.45l-7.72 7.72c-.78.78-.78 2.05 0 2.83L4 21.41c.39.39.9.59 1.41.59.51 0 1.02-.2 1.41-.59l7.78-7.78 2.81-2.81c.8-.78.8-2.07 0-2.86zM5.41 20L4 18.59l7.72-7.72 1.47 1.35L5.41 20z\"/>\n",
              "  </svg>\n",
              "      </button>\n",
              "      \n",
              "  <style>\n",
              "    .colab-df-container {\n",
              "      display:flex;\n",
              "      flex-wrap:wrap;\n",
              "      gap: 12px;\n",
              "    }\n",
              "\n",
              "    .colab-df-convert {\n",
              "      background-color: #E8F0FE;\n",
              "      border: none;\n",
              "      border-radius: 50%;\n",
              "      cursor: pointer;\n",
              "      display: none;\n",
              "      fill: #1967D2;\n",
              "      height: 32px;\n",
              "      padding: 0 0 0 0;\n",
              "      width: 32px;\n",
              "    }\n",
              "\n",
              "    .colab-df-convert:hover {\n",
              "      background-color: #E2EBFA;\n",
              "      box-shadow: 0px 1px 2px rgba(60, 64, 67, 0.3), 0px 1px 3px 1px rgba(60, 64, 67, 0.15);\n",
              "      fill: #174EA6;\n",
              "    }\n",
              "\n",
              "    [theme=dark] .colab-df-convert {\n",
              "      background-color: #3B4455;\n",
              "      fill: #D2E3FC;\n",
              "    }\n",
              "\n",
              "    [theme=dark] .colab-df-convert:hover {\n",
              "      background-color: #434B5C;\n",
              "      box-shadow: 0px 1px 3px 1px rgba(0, 0, 0, 0.15);\n",
              "      filter: drop-shadow(0px 1px 2px rgba(0, 0, 0, 0.3));\n",
              "      fill: #FFFFFF;\n",
              "    }\n",
              "  </style>\n",
              "\n",
              "      <script>\n",
              "        const buttonEl =\n",
              "          document.querySelector('#df-1b6b5d18-6308-48bf-8305-f03505daad8d button.colab-df-convert');\n",
              "        buttonEl.style.display =\n",
              "          google.colab.kernel.accessAllowed ? 'block' : 'none';\n",
              "\n",
              "        async function convertToInteractive(key) {\n",
              "          const element = document.querySelector('#df-1b6b5d18-6308-48bf-8305-f03505daad8d');\n",
              "          const dataTable =\n",
              "            await google.colab.kernel.invokeFunction('convertToInteractive',\n",
              "                                                     [key], {});\n",
              "          if (!dataTable) return;\n",
              "\n",
              "          const docLinkHtml = 'Like what you see? Visit the ' +\n",
              "            '<a target=\"_blank\" href=https://colab.research.google.com/notebooks/data_table.ipynb>data table notebook</a>'\n",
              "            + ' to learn more about interactive tables.';\n",
              "          element.innerHTML = '';\n",
              "          dataTable['output_type'] = 'display_data';\n",
              "          await google.colab.output.renderOutput(dataTable, element);\n",
              "          const docLink = document.createElement('div');\n",
              "          docLink.innerHTML = docLinkHtml;\n",
              "          element.appendChild(docLink);\n",
              "        }\n",
              "      </script>\n",
              "    </div>\n",
              "  </div>\n",
              "  "
            ]
          },
          "metadata": {},
          "execution_count": 12
        }
      ],
      "source": [
        "holiday_data.head()"
      ]
    },
    {
      "cell_type": "code",
      "execution_count": 13,
      "id": "kzjjWiEt1uPY",
      "metadata": {
        "id": "kzjjWiEt1uPY"
      },
      "outputs": [],
      "source": [
        "# remove the last 3 columns since they have irrelevant info\n",
        "cols_to_drop= ['Unnamed: 3', 'Unnamed: 4', 'Unnamed: 5']\n",
        "date_data.drop(cols_to_drop,axis= 1, inplace= True)"
      ]
    },
    {
      "cell_type": "markdown",
      "source": [
        "##### 3.3.2 Uniformity\n",
        "\n",
        "*   Checking different columns to ensure that they are correct.\n",
        "*   Merging columns with same information\n",
        "*   Deleteing columns with duplicate entries\n",
        "\n"
      ],
      "metadata": {
        "id": "_8pbXZ7Qh0EG"
      },
      "id": "_8pbXZ7Qh0EG"
    },
    {
      "cell_type": "code",
      "execution_count": 14,
      "id": "2nW9tTvu1wtb",
      "metadata": {
        "colab": {
          "base_uri": "https://localhost:8080/"
        },
        "id": "2nW9tTvu1wtb",
        "outputId": "04ad6939-f1d1-463b-fd4a-315253f8e078"
      },
      "outputs": [
        {
          "output_type": "stream",
          "name": "stdout",
          "text": [
            "<class 'pandas.core.frame.DataFrame'>\n",
            "RangeIndex: 135988 entries, 0 to 135987\n",
            "Data columns (total 19 columns):\n",
            " #   Column                        Non-Null Count   Dtype \n",
            "---  ------                        --------------   ----- \n",
            " 0   calldate                      135988 non-null  object\n",
            " 1   cc_status                     135988 non-null  object\n",
            " 2   maincat                       135988 non-null  object\n",
            " 3   subcat1                       135988 non-null  object\n",
            " 4   casepriority                  135988 non-null  object\n",
            " 5   referal                       1262 non-null    object\n",
            " 6   caller_gender                 11548 non-null   object\n",
            " 7   caller_age                    10732 non-null   object\n",
            " 8   caller_county                 8667 non-null    object\n",
            " 9   child_age                     3979 non-null    object\n",
            " 10  child_gender                  3992 non-null    object\n",
            " 11  child_county                  3749 non-null    object\n",
            " 12  parent_age                    33 non-null      object\n",
            " 13  parent_gender                 69 non-null      object\n",
            " 14  parent_county                 48 non-null      object\n",
            " 15  Abuser_Relationship           240 non-null     object\n",
            " 16  Neglector_Relationship        148 non-null     object\n",
            " 17  Perpetrator_Relationship      130 non-null     object\n",
            " 18  Physical abuser_Relationship  113 non-null     object\n",
            "dtypes: object(19)\n",
            "memory usage: 19.7+ MB\n"
          ]
        }
      ],
      "source": [
        "train_data.info()"
      ]
    },
    {
      "cell_type": "markdown",
      "id": "erBnaAsM102k",
      "metadata": {
        "id": "erBnaAsM102k"
      },
      "source": [
        "We noticed that in the referal column a lot of the values of the columns are similar both in the text and meaning. We therefore merge the similar values while also rectifying spelling errors."
      ]
    },
    {
      "cell_type": "code",
      "execution_count": 15,
      "id": "p4HntzRm12IK",
      "metadata": {
        "id": "p4HntzRm12IK"
      },
      "outputs": [],
      "source": [
        "# merge values similar to children office\n",
        "similar_to_children_law= [\"Childrens\", \"Childrens Office\", \"Children's court\", \"Children's office\", \"CHILDREN\", \"Childrens'Court\", \"children's office\", \"Children's\", \"Child\",\n",
        "                          \"Childrens officer\", \"Childrens office\", \"children's court\", \"Children's Court\", \"Childrens court\", \"children Officer\"]\n",
        "train_data['referal']= train_data['referal'].map(lambda x: 'children office/court' if x in similar_to_children_law else x)\n",
        "\n",
        "# merge values similar to chief office\n",
        "similar_to_chief_office= [\"Chief's\", \"Chief's office\", \"Chief's Office\", \"Kenya\", \"Kenya Police\", \"kenya Police\", \"chief's office\", \"Chief officer\",\n",
        "                          \"Chief\", \"Police station\", \"DO's\", \"Assistant county commisioners(DOs)\"]\n",
        "train_data['referal']= train_data['referal'].map(lambda x: 'chief/police office' if x in similar_to_chief_office else x)\n",
        "\n",
        "# merge values similar to OVC rescue centre\n",
        "similar_to_OVC= [\"Children and rescuing centre(OVC)\", \"Children's rescuing Center(OVC)\", \"children's rescuing Center(OVC)\", \"children's rescuing center(OVC)\", \"OVC\"]\n",
        "train_data['referal']= train_data['referal'].map(lambda x: 'OVC rescue' if x in similar_to_OVC else x)\n",
        "\n",
        "# similar to constituency fund\n",
        "similar_to_constituency= [\"Constituency\", \"Constituency Development  Fund(CDF)\"]\n",
        "train_data['referal']= train_data['referal'].map(lambda x: 'constituency dev fund' if x in similar_to_constituency else x)\n",
        "\n",
        "# similar to education office\n",
        "similar_to_ed= [\"Education\", \"Education Office\"]\n",
        "train_data['referal']= train_data['referal'].map(lambda x: 'education office' if x in similar_to_ed else x)\n",
        "\n",
        "# similar to youth hotline\n",
        "similar_to_youth_hotline= [\"Youth\", \"Youth Hotline 1190\", \"Youth hotline 1190\"]\n",
        "train_data['referal']= train_data['referal'].map(lambda x: 'youth hotline 1190' if x in similar_to_youth_hotline else x)\n",
        "\n",
        "# fix a spelling error in 'child welfare sociaty'\n",
        "train_data['referal']= train_data['referal'].map(lambda x: 'child welfare society' if x == 'child welfare sociaty' else x)"
      ]
    },
    {
      "cell_type": "code",
      "execution_count": 16,
      "id": "uICEfxxN1-qi",
      "metadata": {
        "colab": {
          "base_uri": "https://localhost:8080/"
        },
        "id": "uICEfxxN1-qi",
        "outputId": "f1435c48-1697-4980-fef0-a199d71e326a"
      },
      "outputs": [
        {
          "output_type": "execute_result",
          "data": {
            "text/plain": [
              "children office/court                                 788\n",
              "chief/police office                                   318\n",
              "Hospital                                               38\n",
              "constituency dev fund                                  38\n",
              "education office                                       25\n",
              "youth hotline 1190                                     22\n",
              "OVC rescue                                              8\n",
              "CRADDLE                                                 4\n",
              "GENDER                                                  4\n",
              "FIDA                                                    3\n",
              "Area                                                    2\n",
              "CLAN                                                    1\n",
              "child welfare society                                   1\n",
              "Charitable                                              1\n",
              "Amani                                                   1\n",
              "World                                                   1\n",
              "Save                                                    1\n",
              "CARE                                                    1\n",
              "National Legal Aid and Awareness Programme(Naleap)      1\n",
              "Nacada                                                  1\n",
              "Childfund                                               1\n",
              "Nacada(1195)                                            1\n",
              "Compassion International                                1\n",
              "Name: referal, dtype: int64"
            ]
          },
          "metadata": {},
          "execution_count": 16
        }
      ],
      "source": [
        "# checking that the values have been changed\n",
        "train_data['referal'].value_counts()"
      ]
    },
    {
      "cell_type": "markdown",
      "id": "C_vbQaZ-2CZD",
      "metadata": {
        "id": "C_vbQaZ-2CZD"
      },
      "source": [
        "We repeat the process for any other columns with the same issue."
      ]
    },
    {
      "cell_type": "code",
      "execution_count": 17,
      "id": "pFZqW3GX2DT-",
      "metadata": {
        "id": "pFZqW3GX2DT-"
      },
      "outputs": [],
      "source": [
        "# fixing a capitalisation issue in casepriority\n",
        "train_data['casepriority']= train_data['casepriority'].map(lambda x: 'Non Critical' if x == 'non Critical' else x)"
      ]
    },
    {
      "cell_type": "code",
      "execution_count": 18,
      "id": "LBkWR0cz2HBY",
      "metadata": {
        "id": "LBkWR0cz2HBY"
      },
      "outputs": [],
      "source": [
        "# fixing a spelling error in subcategory1\n",
        "train_data['subcat1']= train_data['subcat1'].map(lambda x: 'Children rights/ issues' if x == 'Childrenï¿½s rights/ issues' else x)"
      ]
    },
    {
      "cell_type": "code",
      "execution_count": 19,
      "id": "3oq3y-yb2M1U",
      "metadata": {
        "id": "3oq3y-yb2M1U"
      },
      "outputs": [],
      "source": [
        "# fixing a typo in the age columns\n",
        "train_data['caller_age']= train_data['caller_age'].map(lambda x: '11-15' if x == '2016-11-15 00:00:00' else x)\n",
        "train_data['caller_age']= train_data['caller_age'].map(lambda x: '6-10' if x == '2016-06-10 00:00:00' else x)\n"
      ]
    },
    {
      "cell_type": "code",
      "execution_count": 20,
      "id": "FzD52Trk2Q1M",
      "metadata": {
        "id": "FzD52Trk2Q1M"
      },
      "outputs": [],
      "source": [
        "# combine the 10-15 and 11-15 values\n",
        "train_data['child_age']= train_data['child_age'].map(lambda x: '11-15' if (x== '2016-11-15 00:00:00' or x== '2016-10-15 00:00:00' or x==' 11-15') else x)\n",
        "train_data['child_age']= train_data['child_age'].map(lambda x: '6-10' if x == '2016-06-10 00:00:00' else x)"
      ]
    },
    {
      "cell_type": "code",
      "execution_count": 21,
      "id": "5Dy_6kzf2b0x",
      "metadata": {
        "id": "5Dy_6kzf2b0x"
      },
      "outputs": [],
      "source": [
        "# removing the distinction btwn certain texts that mean the same thing in the abuser relationship column\n",
        "train_data['Abuser_Relationship']= train_data['Abuser_Relationship'].map(lambda x: 'Neighbor' if (x== 'Neighbour' or x== 'Neigbour') else x)\n",
        "train_data['Abuser_Relationship']= train_data['Abuser_Relationship'].map(lambda x: 'Father' if x== 'father' else x)\n",
        "train_data['Abuser_Relationship']= train_data['Abuser_Relationship'].map(lambda x: 'Unknown' if (x== 'Unspecified relationship' or x== 'unknown' or x== 'Undisclosed relationship' or x== 'Concerned') else x)\n",
        "train_data['Abuser_Relationship']= train_data['Abuser_Relationship'].map(lambda x: 'Parent' if x== 'Parents' else x)\n",
        "train_data['Abuser_Relationship']= train_data['Abuser_Relationship'].map(lambda x: 'Uncle' if x== 'Uncles' else x)\n",
        "train_data['Abuser_Relationship']= train_data['Abuser_Relationship'].map(lambda x: 'Extended' if x== 'Extended Family' else x)\n",
        "train_data['Abuser_Relationship']= train_data['Abuser_Relationship'].map(lambda x: 'Teacher' if x== 'Student' else x)\n",
        "train_data['Abuser_Relationship']= train_data['Abuser_Relationship'].map(lambda x: 'Romantic Partner' if (x== 'Romantic parner' or x== 'Partner') else x)"
      ]
    },
    {
      "cell_type": "code",
      "execution_count": 22,
      "id": "MQWddzOz2pJV",
      "metadata": {
        "id": "MQWddzOz2pJV"
      },
      "outputs": [],
      "source": [
        "# removing distinctions in the neglector relationship column\n",
        "train_data['Neglector_Relationship']= train_data['Neglector_Relationship'].map(lambda x: 'Parent' if x== 'Parents' else x)\n",
        "train_data['Neglector_Relationship']= train_data['Neglector_Relationship'].map(lambda x: 'Father' if x== 'father' else x)\n",
        "train_data['Neglector_Relationship']= train_data['Neglector_Relationship'].map(lambda x: 'GrandMother' if x== 'Grandmother' else x)\n",
        "train_data['Neglector_Relationship']= train_data['Neglector_Relationship'].map(lambda x: 'Step-Mother' if x== 'Step mother' else x)"
      ]
    },
    {
      "cell_type": "code",
      "execution_count": 23,
      "id": "r5vRGDwk2to9",
      "metadata": {
        "id": "r5vRGDwk2to9"
      },
      "outputs": [],
      "source": [
        "# removing distinctions in the perpertrator relationship column\n",
        "train_data['Perpetrator_Relationship']= train_data['Perpetrator_Relationship'].map(lambda x: 'Father' if (x== 'father' or x== 'Father ') else x)\n",
        "train_data['Perpetrator_Relationship']= train_data['Perpetrator_Relationship'].map(lambda x: 'Mother' if (x== 'mother' or x== 'mother ') else x)\n",
        "train_data['Perpetrator_Relationship']= train_data['Perpetrator_Relationship'].map(lambda x: 'Neighbor' if (x== 'neighbor' or x== 'neighbour' or x== 'Neighbour' or x== 'Neigbour') else x)\n",
        "train_data['Perpetrator_Relationship']= train_data['Perpetrator_Relationship'].map(lambda x: 'Romantic partner' if (x== 'romantic partner' or x== 'Romantic Parner' or x== 'Romantic parner') else x)\n",
        "train_data['Perpetrator_Relationship']= train_data['Perpetrator_Relationship'].map(lambda x: 'Extended' if x== 'Extended family' else x)\n",
        "train_data['Perpetrator_Relationship']= train_data['Perpetrator_Relationship'].map(lambda x: 'Parent' if (x== 'Parents' or x== 'Parents' or x== 'parents') else x)\n",
        "train_data['Perpetrator_Relationship']= train_data['Perpetrator_Relationship'].map(lambda x: 'Unknown' if (x== 'unspecified relationship' or x== 'Assistant Chief') else x)\n",
        "train_data['Perpetrator_Relationship']= train_data['Perpetrator_Relationship'].map(lambda x: 'Uncle' if x== 'uncle' else x)\n",
        "train_data['Perpetrator_Relationship']= train_data['Perpetrator_Relationship'].map(lambda x: 'Guardian' if x== 'guardian' else x)\n",
        "train_data['Perpetrator_Relationship']= train_data['Perpetrator_Relationship'].map(lambda x: 'Step-Mother' if x== 'step-mother' or x== 'Step mother' else x)\n",
        "train_data['Perpetrator_Relationship']= train_data['Perpetrator_Relationship'].map(lambda x: 'Grandmother' if x== 'grandmother' else x)\n",
        "train_data['Perpetrator_Relationship']= train_data['Perpetrator_Relationship'].map(lambda x: 'Teacher' if (x== 'teacher' or x== 'student') else x)"
      ]
    },
    {
      "cell_type": "code",
      "execution_count": 24,
      "id": "dC35_rqW2zEe",
      "metadata": {
        "id": "dC35_rqW2zEe"
      },
      "outputs": [],
      "source": [
        "# removing distinctions in the physical abuser relationship column\n",
        "train_data['Physical abuser_Relationship']= train_data['Physical abuser_Relationship'].map(lambda x: 'Father' if x== 'father' else x)\n",
        "train_data['Physical abuser_Relationship']= train_data['Physical abuser_Relationship'].map(lambda x: 'Mother' if x== 'mother' else x)\n",
        "train_data['Physical abuser_Relationship']= train_data['Physical abuser_Relationship'].map(lambda x: 'Friend' if x== 'peer' else x)\n",
        "train_data['Physical abuser_Relationship']= train_data['Physical abuser_Relationship'].map(lambda x: 'Parent' if x== 'Parents' else x)\n",
        "train_data['Physical abuser_Relationship']= train_data['Physical abuser_Relationship'].map(lambda x: 'Neighbor' if (x== 'Naighbor' or x== 'Neighbour') else x)\n",
        "train_data['Physical abuser_Relationship']= train_data['Physical abuser_Relationship'].map(lambda x: 'Step-Mother' if x== 'Step-Mother ' else x)"
      ]
    },
    {
      "cell_type": "markdown",
      "id": "zw5iZnS4298Y",
      "metadata": {
        "id": "zw5iZnS4298Y"
      },
      "source": [
        "Here we merge the Abuser_Relationship, Neglector_Relationship, Physical abuser_Relationship, Perpetrator_Relationship columns as they seem to refer to the same person (the person who did the abuse)"
      ]
    },
    {
      "cell_type": "code",
      "execution_count": 25,
      "id": "ftlp3RYg3ChF",
      "metadata": {
        "id": "ftlp3RYg3ChF"
      },
      "outputs": [],
      "source": [
        "# here we check if any of the rows have any data filled into more than one of the 4 columns\n",
        "zipped= zip(train_data['Abuser_Relationship'], train_data['Neglector_Relationship'],\n",
        "            train_data['Physical abuser_Relationship'], train_data['Perpetrator_Relationship'])\n",
        "clashing_columns= 0\n",
        "for i,j,k,l in zipped:\n",
        "  check_for_na= not pd.isna(i) and not pd.isna(j) and not pd.isna(k) and not pd.isna(l)\n",
        "  if check_for_na:\n",
        "    clashing_columns+=1"
      ]
    },
    {
      "cell_type": "code",
      "execution_count": 26,
      "id": "dmVvCoLn27Xl",
      "metadata": {
        "id": "dmVvCoLn27Xl"
      },
      "outputs": [],
      "source": [
        "# here we make a column 'abuser_relationship' and add values from the other 4 columns into it\n",
        "train_data['abuser_relationship']= None\n",
        "zipped= zip(train_data['Abuser_Relationship'], train_data['Neglector_Relationship'],\n",
        "            train_data['Physical abuser_Relationship'], train_data['Perpetrator_Relationship'])\n",
        "ind= 0\n",
        "for i,j,k,l in zipped:\n",
        "    if not pd.isna(i):\n",
        "        train_data['abuser_relationship'][ind]= i\n",
        "        continue\n",
        "    elif not pd.isna(j):\n",
        "        train_data['abuser_relationship'][ind]= j\n",
        "        continue\n",
        "    elif not pd.isna(k):\n",
        "        train_data['abuser_relationship'][ind]= k\n",
        "        continue\n",
        "    elif not pd.isna(l):\n",
        "        train_data['abuser_relationship'][ind]= l\n",
        "    ind+=1"
      ]
    },
    {
      "cell_type": "markdown",
      "id": "fhWoGN_C3Tw-",
      "metadata": {
        "id": "fhWoGN_C3Tw-"
      },
      "source": [
        "Aside from deleting the Abuser_Relationship, Neglector_Relationship, Physical abuser_Relationship, Perpetrator_Relationship...\n",
        "we delete the parent age column, because in the values each unique numerical value only has one entry and it would therefore not help us in modeling or EDA.\n",
        "We also drop the parent county column as it has very little non-null data"
      ]
    },
    {
      "cell_type": "code",
      "execution_count": 27,
      "id": "0Epj3Zd53Vbs",
      "metadata": {
        "id": "0Epj3Zd53Vbs"
      },
      "outputs": [],
      "source": [
        "cols_to_drop= ['parent_age', 'parent_county', 'Abuser_Relationship',\n",
        "               'Neglector_Relationship', 'Physical abuser_Relationship', 'Perpetrator_Relationship']\n",
        "train_data.drop(cols_to_drop, axis= 1, inplace= True)"
      ]
    },
    {
      "cell_type": "code",
      "execution_count": 28,
      "id": "dCzNfEx03QxJ",
      "metadata": {
        "colab": {
          "base_uri": "https://localhost:8080/"
        },
        "id": "dCzNfEx03QxJ",
        "outputId": "0b4c8754-a758-4936-cea1-d8c7a65582d1"
      },
      "outputs": [
        {
          "output_type": "stream",
          "name": "stdout",
          "text": [
            "<class 'pandas.core.frame.DataFrame'>\n",
            "RangeIndex: 135988 entries, 0 to 135987\n",
            "Data columns (total 14 columns):\n",
            " #   Column               Non-Null Count   Dtype \n",
            "---  ------               --------------   ----- \n",
            " 0   calldate             135988 non-null  object\n",
            " 1   cc_status            135988 non-null  object\n",
            " 2   maincat              135988 non-null  object\n",
            " 3   subcat1              135988 non-null  object\n",
            " 4   casepriority         135988 non-null  object\n",
            " 5   referal              1262 non-null    object\n",
            " 6   caller_gender        11548 non-null   object\n",
            " 7   caller_age           10732 non-null   object\n",
            " 8   caller_county        8667 non-null    object\n",
            " 9   child_age            3979 non-null    object\n",
            " 10  child_gender         3992 non-null    object\n",
            " 11  child_county         3749 non-null    object\n",
            " 12  parent_gender        69 non-null      object\n",
            " 13  abuser_relationship  597 non-null     object\n",
            "dtypes: object(14)\n",
            "memory usage: 14.5+ MB\n"
          ]
        }
      ],
      "source": [
        "# observing clean train_data\n",
        "train_data.info()"
      ]
    },
    {
      "cell_type": "markdown",
      "source": [
        "##### 3.3.3 Consistency"
      ],
      "metadata": {
        "id": "-NH57BY8erv1"
      },
      "id": "-NH57BY8erv1"
    },
    {
      "cell_type": "code",
      "source": [
        "# checking for duplicates\n",
        "\n",
        "print(f'The data has {train_data.duplicated().sum()} duplicates')"
      ],
      "metadata": {
        "id": "Y4L72fbcevIS",
        "outputId": "5454debe-fc95-4772-9855-e8e4b354d77f",
        "colab": {
          "base_uri": "https://localhost:8080/"
        }
      },
      "id": "Y4L72fbcevIS",
      "execution_count": 29,
      "outputs": [
        {
          "output_type": "stream",
          "name": "stdout",
          "text": [
            "The data has 2037 duplicates\n"
          ]
        }
      ]
    },
    {
      "cell_type": "markdown",
      "id": "t7E-u7-tqq4C",
      "metadata": {
        "id": "t7E-u7-tqq4C"
      },
      "source": [
        "#### 3.3.0  Weather data cleaning"
      ]
    },
    {
      "cell_type": "markdown",
      "id": "CELx8Iubcykp",
      "metadata": {
        "id": "CELx8Iubcykp"
      },
      "source": [
        "We delete all columns besides:\n",
        "- 'T'(temperature)\n",
        "- 'U'(humidity)\n",
        "- 'Ff'(wind speed)\n",
        "- 'N'(cloud cover)\n",
        "- 'Cl'(Types of clouds present) - (stratocumulus, stratus, cumulus, cumulonimbus)\n",
        "- 'H'(height of the base of the clouds that are present\n",
        "- 'Cm'(more types of clouds that are present) - (altocumulus, altostratus, nimbostratus)\n",
        "- 'Ch'(more types of clouds) - (cirrus, cirrocumulus, cirrostratus)\n",
        "\n",
        "Because these are the only useful ones to our project.<br>\n",
        "We also rename the columns to better represent the information they have."
      ]
    },
    {
      "cell_type": "code",
      "execution_count": 30,
      "id": "PHyHLeCeeAKK",
      "metadata": {
        "colab": {
          "base_uri": "https://localhost:8080/"
        },
        "id": "PHyHLeCeeAKK",
        "outputId": "2435daf8-c543-441a-fe8f-093100c18735"
      },
      "outputs": [
        {
          "output_type": "stream",
          "name": "stdout",
          "text": [
            "<class 'pandas.core.frame.DataFrame'>\n",
            "RangeIndex: 1367 entries, 0 to 1366\n",
            "Data columns (total 6 columns):\n",
            " #   Column             Non-Null Count  Dtype  \n",
            "---  ------             --------------  -----  \n",
            " 0   dateTime           1367 non-null   object \n",
            " 1   temperature        1367 non-null   float64\n",
            " 2   humidity           1360 non-null   float64\n",
            " 3   wind_speed         1366 non-null   float64\n",
            " 4   total_cloud_cover  1367 non-null   object \n",
            " 5   cloud_height       1325 non-null   object \n",
            "dtypes: float64(3), object(3)\n",
            "memory usage: 64.2+ KB\n"
          ]
        }
      ],
      "source": [
        "# specifying the columns to keep\n",
        "cols_to_keep= ['Local time in Nairobi (airport)','T','U', 'Ff', 'N', 'H']\n",
        "\n",
        "# specifying column names\n",
        "weather_cols= ['dateTime', 'temperature', 'humidity', 'wind_speed', 'total_cloud_cover', 'cloud_height']\n",
        "\n",
        "weather= weather_data[cols_to_keep]\n",
        "weather.columns= weather_cols\n",
        "\n",
        "# observing clean weather data\n",
        "weather.info()"
      ]
    },
    {
      "cell_type": "markdown",
      "id": "LDBWlCuNmILc",
      "metadata": {
        "id": "LDBWlCuNmILc"
      },
      "source": [
        "For the humidity and wind_speed columns, we fill the null values with the means of their corresponding columns.<br>\n",
        "For the cloud_height column, we fill the null values with the mode because its dtype is 'object'<br>\n",
        "We chose this method of filling null values because it invokes the least changes in the distributions of the various columns."
      ]
    },
    {
      "cell_type": "code",
      "execution_count": 31,
      "id": "FlhG9REQjNui",
      "metadata": {
        "colab": {
          "base_uri": "https://localhost:8080/"
        },
        "id": "FlhG9REQjNui",
        "outputId": "c9ac34b1-d889-4e69-c025-8760e08ca8b8"
      },
      "outputs": [
        {
          "output_type": "stream",
          "name": "stderr",
          "text": [
            "/usr/local/lib/python3.7/dist-packages/pandas/core/generic.py:6392: SettingWithCopyWarning: \n",
            "A value is trying to be set on a copy of a slice from a DataFrame\n",
            "\n",
            "See the caveats in the documentation: https://pandas.pydata.org/pandas-docs/stable/user_guide/indexing.html#returning-a-view-versus-a-copy\n",
            "  return self._update_inplace(result)\n"
          ]
        }
      ],
      "source": [
        "weather['humidity'].fillna(weather['humidity'].mean(), inplace= True)\n",
        "weather['wind_speed'].fillna(weather['wind_speed'].mean(), inplace= True)\n",
        "weather['cloud_height'].fillna(weather['cloud_height'].value_counts().index[0], inplace= True);"
      ]
    },
    {
      "cell_type": "markdown",
      "source": [
        "##### 3.3.4 Completeness\n",
        "\n",
        "*   Handling missing values in weather dataframe\n",
        "\n"
      ],
      "metadata": {
        "id": "O8DliSzDgqPj"
      },
      "id": "O8DliSzDgqPj"
    },
    {
      "cell_type": "code",
      "source": [
        "# checking to see if missing values have been replaced\n",
        "\n",
        "print(f'The data has {weather.isna().sum().sum()} missing values')"
      ],
      "metadata": {
        "id": "n_XdTXUaG51_",
        "colab": {
          "base_uri": "https://localhost:8080/"
        },
        "outputId": "b61adfbb-a9c9-475c-c776-82739f8f4d38"
      },
      "id": "n_XdTXUaG51_",
      "execution_count": 33,
      "outputs": [
        {
          "output_type": "stream",
          "name": "stdout",
          "text": [
            "The data has 0 missing values\n"
          ]
        }
      ]
    },
    {
      "cell_type": "markdown",
      "source": [
        "##### 3.3.5 Consistecy\n",
        "\n",
        "*   Checking for duplicates\n",
        "\n"
      ],
      "metadata": {
        "id": "8qBzClddgzkD"
      },
      "id": "8qBzClddgzkD"
    },
    {
      "cell_type": "code",
      "source": [
        "# checking for duplicates\n",
        "\n",
        "print(f'The data has {weather.duplicated().sum()} duplicates')"
      ],
      "metadata": {
        "colab": {
          "base_uri": "https://localhost:8080/"
        },
        "id": "ZrCDVumvgfS3",
        "outputId": "44044262-6d81-4dcd-88fb-071ad75fa983"
      },
      "id": "ZrCDVumvgfS3",
      "execution_count": 34,
      "outputs": [
        {
          "output_type": "stream",
          "name": "stdout",
          "text": [
            "The data has 0 duplicates\n"
          ]
        }
      ]
    }
  ],
  "metadata": {
    "colab": {
      "collapsed_sections": [],
      "provenance": [],
      "toc_visible": true,
      "include_colab_link": true
    },
    "gpuClass": "standard",
    "kernelspec": {
      "display_name": "Python 3 (ipykernel)",
      "language": "python",
      "name": "python3"
    },
    "language_info": {
      "codemirror_mode": {
        "name": "ipython",
        "version": 3
      },
      "file_extension": ".py",
      "mimetype": "text/x-python",
      "name": "python",
      "nbconvert_exporter": "python",
      "pygments_lexer": "ipython3",
      "version": "3.9.7"
    }
  },
  "nbformat": 4,
  "nbformat_minor": 5
}