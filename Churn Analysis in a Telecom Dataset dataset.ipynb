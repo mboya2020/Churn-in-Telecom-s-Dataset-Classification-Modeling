{
 "cells": [
  {
   "cell_type": "markdown",
   "metadata": {},
   "source": [
    "# Identifying clients likely to revoke service subscriptions\n",
    "\n"
   ]
  },
  {
   "cell_type": "markdown",
   "metadata": {},
   "source": [
    "## Classification Modeling with the Churn Telecom's Dataset"
   ]
  },
  {
   "cell_type": "markdown",
   "metadata": {},
   "source": [
    "# 1. Business and Data Understanding"
   ]
  },
  {
   "cell_type": "markdown",
   "metadata": {
    "nbpresent": {
     "id": "e3f9c5cb-55c7-4cf0-bc4f-1bd990733dd6"
    }
   },
   "source": [
    "   In this project, the goal is to identify customers churn, that is, customers most likely to cancel subscription to a SyriaTel Telecom company.And provide recommendations to the stakeholders-Telecom company that will direct them toward such customers, providing adequate intervention to encourage them to stay and minimize customer exit\n",
    "   \n",
    "   \n",
    "   \n",
    "   The dataset for this exercise relates features of account and usage for churn and non churn clients. The Telecom dataset was obtained from Kaggle. . Since this is a supervised classification problem, machine learning algorithms will be utilized to create predictive models and assess their performance and accuracy. It aims to identify the business model that is the best suitable to solve this problem"
   ]
  },
  {
   "cell_type": "markdown",
   "metadata": {
    "nbpresent": {
     "id": "5f441923-7288-4a26-a651-78ee08d64ed2"
    }
   },
   "source": [
    "# 2.Data Preparation\n",
    "\n",
    "Using visual and quantitative techniques, we will evaluate datasets to identify and summarize their key features."
   ]
  },
  {
   "cell_type": "code",
   "execution_count": 1,
   "metadata": {
    "nbpresent": {
     "id": "9bf2b1ea-b6fb-40cc-a2fe-a2b872bdd7f2"
    }
   },
   "outputs": [],
   "source": [
    "#import packages\n",
    "import numpy as np\n",
    "import pandas as pd\n",
    "import seaborn as sns\n",
    "import matplotlib.pyplot as plt\n",
    "%matplotlib inline"
   ]
  },
  {
   "cell_type": "markdown",
   "metadata": {},
   "source": [
    "## 2.0 Exploratory Data Analysis (EDA)"
   ]
  },
  {
   "cell_type": "markdown",
   "metadata": {
    "nbpresent": {
     "id": "c78558c3-6cc4-4af9-a63c-38c5efd9a473"
    }
   },
   "source": [
    "### 2.1 Load Data\n",
    "\n"
   ]
  },
  {
   "cell_type": "code",
   "execution_count": 2,
   "metadata": {
    "nbpresent": {
     "id": "5eb2360e-85e2-45e7-a710-efbdffb0b1ab"
    }
   },
   "outputs": [],
   "source": [
    "# load csv\n",
    "df = pd.read_csv('bigml_59c28831336c6604c800002a.csv')\n",
    "\n"
   ]
  },
  {
   "cell_type": "code",
   "execution_count": 3,
   "metadata": {},
   "outputs": [
    {
     "data": {
      "text/plain": [
       "Index(['state', 'account length', 'area code', 'phone number',\n",
       "       'international plan', 'voice mail plan', 'number vmail messages',\n",
       "       'total day minutes', 'total day calls', 'total day charge',\n",
       "       'total eve minutes', 'total eve calls', 'total eve charge',\n",
       "       'total night minutes', 'total night calls', 'total night charge',\n",
       "       'total intl minutes', 'total intl calls', 'total intl charge',\n",
       "       'customer service calls', 'churn'],\n",
       "      dtype='object')"
      ]
     },
     "execution_count": 3,
     "metadata": {},
     "output_type": "execute_result"
    }
   ],
   "source": [
    "df.columns"
   ]
  },
  {
   "cell_type": "code",
   "execution_count": 4,
   "metadata": {},
   "outputs": [],
   "source": [
    "# separate features and target (churn)for analysis\n",
    "\n",
    "#features\n",
    "features = df.drop(columns = \"churn\",axis=1)\n",
    "\n",
    "\n",
    "#target\n",
    "target = df[['churn']]"
   ]
  },
  {
   "cell_type": "markdown",
   "metadata": {
    "nbpresent": {
     "id": "838b76a5-58b1-4353-a441-a2c30603b483"
    }
   },
   "source": [
    "### 2.2 Multivariate Analysis of the Features"
   ]
  },
  {
   "cell_type": "code",
   "execution_count": 5,
   "metadata": {
    "nbpresent": {
     "id": "97de455d-d736-45c7-afce-c8bdd975de2a"
    }
   },
   "outputs": [
    {
     "data": {
      "text/html": [
       "<div>\n",
       "<style scoped>\n",
       "    .dataframe tbody tr th:only-of-type {\n",
       "        vertical-align: middle;\n",
       "    }\n",
       "\n",
       "    .dataframe tbody tr th {\n",
       "        vertical-align: top;\n",
       "    }\n",
       "\n",
       "    .dataframe thead th {\n",
       "        text-align: right;\n",
       "    }\n",
       "</style>\n",
       "<table border=\"1\" class=\"dataframe\">\n",
       "  <thead>\n",
       "    <tr style=\"text-align: right;\">\n",
       "      <th></th>\n",
       "      <th>account length</th>\n",
       "      <th>area code</th>\n",
       "      <th>number vmail messages</th>\n",
       "      <th>total day minutes</th>\n",
       "      <th>total day calls</th>\n",
       "      <th>total day charge</th>\n",
       "      <th>total eve minutes</th>\n",
       "      <th>total eve calls</th>\n",
       "      <th>total eve charge</th>\n",
       "      <th>total night minutes</th>\n",
       "      <th>total night calls</th>\n",
       "      <th>total night charge</th>\n",
       "      <th>total intl minutes</th>\n",
       "      <th>total intl calls</th>\n",
       "      <th>total intl charge</th>\n",
       "      <th>customer service calls</th>\n",
       "    </tr>\n",
       "  </thead>\n",
       "  <tbody>\n",
       "    <tr>\n",
       "      <th>count</th>\n",
       "      <td>3333.000000</td>\n",
       "      <td>3333.000000</td>\n",
       "      <td>3333.000000</td>\n",
       "      <td>3333.000000</td>\n",
       "      <td>3333.000000</td>\n",
       "      <td>3333.000000</td>\n",
       "      <td>3333.000000</td>\n",
       "      <td>3333.000000</td>\n",
       "      <td>3333.000000</td>\n",
       "      <td>3333.000000</td>\n",
       "      <td>3333.000000</td>\n",
       "      <td>3333.000000</td>\n",
       "      <td>3333.000000</td>\n",
       "      <td>3333.000000</td>\n",
       "      <td>3333.000000</td>\n",
       "      <td>3333.000000</td>\n",
       "    </tr>\n",
       "    <tr>\n",
       "      <th>mean</th>\n",
       "      <td>101.064806</td>\n",
       "      <td>437.182418</td>\n",
       "      <td>8.099010</td>\n",
       "      <td>179.775098</td>\n",
       "      <td>100.435644</td>\n",
       "      <td>30.562307</td>\n",
       "      <td>200.980348</td>\n",
       "      <td>100.114311</td>\n",
       "      <td>17.083540</td>\n",
       "      <td>200.872037</td>\n",
       "      <td>100.107711</td>\n",
       "      <td>9.039325</td>\n",
       "      <td>10.237294</td>\n",
       "      <td>4.479448</td>\n",
       "      <td>2.764581</td>\n",
       "      <td>1.562856</td>\n",
       "    </tr>\n",
       "    <tr>\n",
       "      <th>std</th>\n",
       "      <td>39.822106</td>\n",
       "      <td>42.371290</td>\n",
       "      <td>13.688365</td>\n",
       "      <td>54.467389</td>\n",
       "      <td>20.069084</td>\n",
       "      <td>9.259435</td>\n",
       "      <td>50.713844</td>\n",
       "      <td>19.922625</td>\n",
       "      <td>4.310668</td>\n",
       "      <td>50.573847</td>\n",
       "      <td>19.568609</td>\n",
       "      <td>2.275873</td>\n",
       "      <td>2.791840</td>\n",
       "      <td>2.461214</td>\n",
       "      <td>0.753773</td>\n",
       "      <td>1.315491</td>\n",
       "    </tr>\n",
       "    <tr>\n",
       "      <th>min</th>\n",
       "      <td>1.000000</td>\n",
       "      <td>408.000000</td>\n",
       "      <td>0.000000</td>\n",
       "      <td>0.000000</td>\n",
       "      <td>0.000000</td>\n",
       "      <td>0.000000</td>\n",
       "      <td>0.000000</td>\n",
       "      <td>0.000000</td>\n",
       "      <td>0.000000</td>\n",
       "      <td>23.200000</td>\n",
       "      <td>33.000000</td>\n",
       "      <td>1.040000</td>\n",
       "      <td>0.000000</td>\n",
       "      <td>0.000000</td>\n",
       "      <td>0.000000</td>\n",
       "      <td>0.000000</td>\n",
       "    </tr>\n",
       "    <tr>\n",
       "      <th>25%</th>\n",
       "      <td>74.000000</td>\n",
       "      <td>408.000000</td>\n",
       "      <td>0.000000</td>\n",
       "      <td>143.700000</td>\n",
       "      <td>87.000000</td>\n",
       "      <td>24.430000</td>\n",
       "      <td>166.600000</td>\n",
       "      <td>87.000000</td>\n",
       "      <td>14.160000</td>\n",
       "      <td>167.000000</td>\n",
       "      <td>87.000000</td>\n",
       "      <td>7.520000</td>\n",
       "      <td>8.500000</td>\n",
       "      <td>3.000000</td>\n",
       "      <td>2.300000</td>\n",
       "      <td>1.000000</td>\n",
       "    </tr>\n",
       "    <tr>\n",
       "      <th>50%</th>\n",
       "      <td>101.000000</td>\n",
       "      <td>415.000000</td>\n",
       "      <td>0.000000</td>\n",
       "      <td>179.400000</td>\n",
       "      <td>101.000000</td>\n",
       "      <td>30.500000</td>\n",
       "      <td>201.400000</td>\n",
       "      <td>100.000000</td>\n",
       "      <td>17.120000</td>\n",
       "      <td>201.200000</td>\n",
       "      <td>100.000000</td>\n",
       "      <td>9.050000</td>\n",
       "      <td>10.300000</td>\n",
       "      <td>4.000000</td>\n",
       "      <td>2.780000</td>\n",
       "      <td>1.000000</td>\n",
       "    </tr>\n",
       "    <tr>\n",
       "      <th>75%</th>\n",
       "      <td>127.000000</td>\n",
       "      <td>510.000000</td>\n",
       "      <td>20.000000</td>\n",
       "      <td>216.400000</td>\n",
       "      <td>114.000000</td>\n",
       "      <td>36.790000</td>\n",
       "      <td>235.300000</td>\n",
       "      <td>114.000000</td>\n",
       "      <td>20.000000</td>\n",
       "      <td>235.300000</td>\n",
       "      <td>113.000000</td>\n",
       "      <td>10.590000</td>\n",
       "      <td>12.100000</td>\n",
       "      <td>6.000000</td>\n",
       "      <td>3.270000</td>\n",
       "      <td>2.000000</td>\n",
       "    </tr>\n",
       "    <tr>\n",
       "      <th>max</th>\n",
       "      <td>243.000000</td>\n",
       "      <td>510.000000</td>\n",
       "      <td>51.000000</td>\n",
       "      <td>350.800000</td>\n",
       "      <td>165.000000</td>\n",
       "      <td>59.640000</td>\n",
       "      <td>363.700000</td>\n",
       "      <td>170.000000</td>\n",
       "      <td>30.910000</td>\n",
       "      <td>395.000000</td>\n",
       "      <td>175.000000</td>\n",
       "      <td>17.770000</td>\n",
       "      <td>20.000000</td>\n",
       "      <td>20.000000</td>\n",
       "      <td>5.400000</td>\n",
       "      <td>9.000000</td>\n",
       "    </tr>\n",
       "  </tbody>\n",
       "</table>\n",
       "</div>"
      ],
      "text/plain": [
       "       account length    area code  number vmail messages  total day minutes  \\\n",
       "count     3333.000000  3333.000000            3333.000000        3333.000000   \n",
       "mean       101.064806   437.182418               8.099010         179.775098   \n",
       "std         39.822106    42.371290              13.688365          54.467389   \n",
       "min          1.000000   408.000000               0.000000           0.000000   \n",
       "25%         74.000000   408.000000               0.000000         143.700000   \n",
       "50%        101.000000   415.000000               0.000000         179.400000   \n",
       "75%        127.000000   510.000000              20.000000         216.400000   \n",
       "max        243.000000   510.000000              51.000000         350.800000   \n",
       "\n",
       "       total day calls  total day charge  total eve minutes  total eve calls  \\\n",
       "count      3333.000000       3333.000000        3333.000000      3333.000000   \n",
       "mean        100.435644         30.562307         200.980348       100.114311   \n",
       "std          20.069084          9.259435          50.713844        19.922625   \n",
       "min           0.000000          0.000000           0.000000         0.000000   \n",
       "25%          87.000000         24.430000         166.600000        87.000000   \n",
       "50%         101.000000         30.500000         201.400000       100.000000   \n",
       "75%         114.000000         36.790000         235.300000       114.000000   \n",
       "max         165.000000         59.640000         363.700000       170.000000   \n",
       "\n",
       "       total eve charge  total night minutes  total night calls  \\\n",
       "count       3333.000000          3333.000000        3333.000000   \n",
       "mean          17.083540           200.872037         100.107711   \n",
       "std            4.310668            50.573847          19.568609   \n",
       "min            0.000000            23.200000          33.000000   \n",
       "25%           14.160000           167.000000          87.000000   \n",
       "50%           17.120000           201.200000         100.000000   \n",
       "75%           20.000000           235.300000         113.000000   \n",
       "max           30.910000           395.000000         175.000000   \n",
       "\n",
       "       total night charge  total intl minutes  total intl calls  \\\n",
       "count         3333.000000         3333.000000       3333.000000   \n",
       "mean             9.039325           10.237294          4.479448   \n",
       "std              2.275873            2.791840          2.461214   \n",
       "min              1.040000            0.000000          0.000000   \n",
       "25%              7.520000            8.500000          3.000000   \n",
       "50%              9.050000           10.300000          4.000000   \n",
       "75%             10.590000           12.100000          6.000000   \n",
       "max             17.770000           20.000000         20.000000   \n",
       "\n",
       "       total intl charge  customer service calls  \n",
       "count        3333.000000             3333.000000  \n",
       "mean            2.764581                1.562856  \n",
       "std             0.753773                1.315491  \n",
       "min             0.000000                0.000000  \n",
       "25%             2.300000                1.000000  \n",
       "50%             2.780000                1.000000  \n",
       "75%             3.270000                2.000000  \n",
       "max             5.400000                9.000000  "
      ]
     },
     "execution_count": 5,
     "metadata": {},
     "output_type": "execute_result"
    }
   ],
   "source": [
    "# describe the characteristics of vthe features\n",
    "features.describe()"
   ]
  },
  {
   "cell_type": "code",
   "execution_count": 6,
   "metadata": {
    "nbpresent": {
     "id": "babe32f8-f697-4ec4-92c9-55e55f4dbef5"
    }
   },
   "outputs": [
    {
     "data": {
      "image/png": "[encoded data removed]",
      "text/plain": [
       "<Figure size 864x720 with 16 Axes>"
      ]
     },
     "metadata": {
      "needs_background": "light"
     },
     "output_type": "display_data"
    }
   ],
   "source": [
    "# analysis of the dispersion of the features\n",
    "features.hist(figsize=(12, 10))\n",
    "plt.show()"
   ]
  },
  {
   "cell_type": "markdown",
   "metadata": {},
   "source": [
    "#### Conclusion from distribution of features:\n",
    "\n",
    "* Most of the variables of dataset are normally distributed."
   ]
  },
  {
   "cell_type": "markdown",
   "metadata": {},
   "source": [
    "### 2.3 Univariate Analysis of the Churn Distribution"
   ]
  },
  {
   "cell_type": "code",
   "execution_count": 7,
   "metadata": {},
   "outputs": [
    {
     "data": {
      "image/png": "[encoded data removed]",
      "text/plain": [
       "<Figure size 288x288 with 1 Axes>"
      ]
     },
     "metadata": {
      "needs_background": "light"
     },
     "output_type": "display_data"
    },
    {
     "name": "stdout",
     "output_type": "stream",
     "text": [
      "Raw Counts\n",
      "False    2850\n",
      "True      483\n",
      "Name: churn, dtype: int64\n",
      "\n",
      "Percentages\n",
      "False    0.855086\n",
      "True     0.144914\n",
      "Name: churn, dtype: float64\n"
     ]
    }
   ],
   "source": [
    "#overview of the churn \n",
    "df['churn'].value_counts().plot(kind='bar', figsize=(4, 4))\n",
    "plt.xlabel(\"Count\", labelpad=14)\n",
    "plt.ylabel(\"Target Variable(Churn)\")\n",
    "plt.title(\"Count of churn per feature\", y=1.02)\n",
    "plt.show()\n",
    "\n",
    "print(\"Raw Counts\")\n",
    "print(df[\"churn\"].value_counts())\n",
    "print()\n",
    "print(\"Percentages\")\n",
    "print(df[\"churn\"].value_counts(normalize=True))\n"
   ]
  },
  {
   "cell_type": "markdown",
   "metadata": {},
   "source": [
    "#### Conclusion from Churn Distribution:\n",
    "- Churn has two categories which include True and False values. (True = Customer who churned, False = Customers who were retained).\n",
    "- There are about 85% of customers who churn, and about 14 customers who are loyal.\n",
    "- We can clearly see that our data is highly imbalanced. The occurance of False is higher than True.\n"
   ]
  },
  {
   "cell_type": "markdown",
   "metadata": {},
   "source": [
    "### 2.31 Churn in accordance with state"
   ]
  },
  {
   "cell_type": "code",
   "execution_count": 8,
   "metadata": {},
   "outputs": [
    {
     "data": {
      "image/png": "[encoded data removed]",
      "text/plain": [
       "<Figure size 1080x504 with 1 Axes>"
      ]
     },
     "metadata": {
      "needs_background": "light"
     },
     "output_type": "display_data"
    }
   ],
   "source": [
    "# Plotting a countplot showing state wise churn of customers\n",
    "plt.figure(figsize=(15,7))\n",
    "sns.countplot(x=df['state'],hue=df['churn'],);"
   ]
  },
  {
   "cell_type": "code",
   "execution_count": 9,
   "metadata": {},
   "outputs": [
    {
     "data": {
      "text/html": [
       "<div>\n",
       "<style scoped>\n",
       "    .dataframe tbody tr th:only-of-type {\n",
       "        vertical-align: middle;\n",
       "    }\n",
       "\n",
       "    .dataframe tbody tr th {\n",
       "        vertical-align: top;\n",
       "    }\n",
       "\n",
       "    .dataframe thead th {\n",
       "        text-align: right;\n",
       "    }\n",
       "</style>\n",
       "<table border=\"1\" class=\"dataframe\">\n",
       "  <thead>\n",
       "    <tr style=\"text-align: right;\">\n",
       "      <th></th>\n",
       "      <th>state</th>\n",
       "      <th>churn</th>\n",
       "    </tr>\n",
       "  </thead>\n",
       "  <tbody>\n",
       "    <tr>\n",
       "      <th>0</th>\n",
       "      <td>TX</td>\n",
       "      <td>18</td>\n",
       "    </tr>\n",
       "    <tr>\n",
       "      <th>1</th>\n",
       "      <td>NJ</td>\n",
       "      <td>18</td>\n",
       "    </tr>\n",
       "    <tr>\n",
       "      <th>2</th>\n",
       "      <td>MD</td>\n",
       "      <td>17</td>\n",
       "    </tr>\n",
       "    <tr>\n",
       "      <th>3</th>\n",
       "      <td>MI</td>\n",
       "      <td>16</td>\n",
       "    </tr>\n",
       "  </tbody>\n",
       "</table>\n",
       "</div>"
      ],
      "text/plain": [
       "  state  churn\n",
       "0    TX     18\n",
       "1    NJ     18\n",
       "2    MD     17\n",
       "3    MI     16"
      ]
     },
     "execution_count": 9,
     "metadata": {},
     "output_type": "execute_result"
    }
   ],
   "source": [
    "#Top 3 states with highest customer churn\n",
    "df[df['churn']==True].groupby('state')['churn'].count().sort_values(ascending=False)[:4].reset_index()\n"
   ]
  },
  {
   "cell_type": "code",
   "execution_count": 10,
   "metadata": {},
   "outputs": [
    {
     "data": {
      "text/html": [
       "<div>\n",
       "<style scoped>\n",
       "    .dataframe tbody tr th:only-of-type {\n",
       "        vertical-align: middle;\n",
       "    }\n",
       "\n",
       "    .dataframe tbody tr th {\n",
       "        vertical-align: top;\n",
       "    }\n",
       "\n",
       "    .dataframe thead th {\n",
       "        text-align: right;\n",
       "    }\n",
       "</style>\n",
       "<table border=\"1\" class=\"dataframe\">\n",
       "  <thead>\n",
       "    <tr style=\"text-align: right;\">\n",
       "      <th></th>\n",
       "      <th>state</th>\n",
       "      <th>churn</th>\n",
       "    </tr>\n",
       "  </thead>\n",
       "  <tbody>\n",
       "    <tr>\n",
       "      <th>0</th>\n",
       "      <td>AK</td>\n",
       "      <td>3</td>\n",
       "    </tr>\n",
       "    <tr>\n",
       "      <th>1</th>\n",
       "      <td>IA</td>\n",
       "      <td>3</td>\n",
       "    </tr>\n",
       "    <tr>\n",
       "      <th>2</th>\n",
       "      <td>HI</td>\n",
       "      <td>3</td>\n",
       "    </tr>\n",
       "    <tr>\n",
       "      <th>3</th>\n",
       "      <td>AZ</td>\n",
       "      <td>4</td>\n",
       "    </tr>\n",
       "  </tbody>\n",
       "</table>\n",
       "</div>"
      ],
      "text/plain": [
       "  state  churn\n",
       "0    AK      3\n",
       "1    IA      3\n",
       "2    HI      3\n",
       "3    AZ      4"
      ]
     },
     "execution_count": 10,
     "metadata": {},
     "output_type": "execute_result"
    }
   ],
   "source": [
    "#States with lowest customer churn\n",
    "df[df['churn']==True].groupby('state')['churn'].count().sort_values(ascending=True)[:4].reset_index()"
   ]
  },
  {
   "cell_type": "markdown",
   "metadata": {},
   "source": [
    "##### Conclusion:\n",
    "- The  top 2 states with the highest churn rate are TX and NJ  with a churn rate of 18\n",
    "- The  top 3 states with the lowest churn rate are AK,IA and HI  with a churn rate of 3\n"
   ]
  },
  {
   "cell_type": "markdown",
   "metadata": {},
   "source": [
    "### 2.33 Churn in accordance to area"
   ]
  },
  {
   "cell_type": "code",
   "execution_count": 11,
   "metadata": {},
   "outputs": [
    {
     "data": {
      "text/plain": [
       "415    1655\n",
       "510     840\n",
       "408     838\n",
       "Name: area code, dtype: int64"
      ]
     },
     "execution_count": 11,
     "metadata": {},
     "output_type": "execute_result"
    }
   ],
   "source": [
    "#Value counts of column 'Area code'\n",
    "df['area code'].value_counts()"
   ]
  },
  {
   "cell_type": "code",
   "execution_count": 12,
   "metadata": {},
   "outputs": [
    {
     "data": {
      "image/png": "[encoded data removed]",
      "text/plain": [
       "<Figure size 432x288 with 1 Axes>"
      ]
     },
     "metadata": {
      "needs_background": "light"
     },
     "output_type": "display_data"
    }
   ],
   "source": [
    "#Plotting a countplot showing Area Wise Churn Analysis\n",
    "ax = sns.countplot(x='area code',hue='churn',data=df)\n",
    "for p in ax.patches:\n",
    "    ax.annotate('{:.1f}'.format(p.get_height()), (p.get_x()+0.25, p.get_height()+0.01))\n",
    "\n",
    "plt.show()"
   ]
  },
  {
   "cell_type": "markdown",
   "metadata": {},
   "source": [
    "##### Conclusion:\n",
    "- Most of the churned customers are from 415 area.\n",
    "- While Area codes 408 and 510 had comparatively less churned customers.\n"
   ]
  },
  {
   "cell_type": "markdown",
   "metadata": {},
   "source": [
    "### 2.34 Churn in accordance with the international plan"
   ]
  },
  {
   "cell_type": "code",
   "execution_count": 13,
   "metadata": {},
   "outputs": [
    {
     "data": {
      "text/plain": [
       "no     3010\n",
       "yes     323\n",
       "Name: international plan, dtype: int64"
      ]
     },
     "execution_count": 13,
     "metadata": {},
     "output_type": "execute_result"
    }
   ],
   "source": [
    "#Value counts of International plan column\n",
    "df['international plan'].value_counts()"
   ]
  },
  {
   "cell_type": "code",
   "execution_count": 14,
   "metadata": {},
   "outputs": [
    {
     "data": {
      "image/png": "[encoded data removed]",
      "text/plain": [
       "<Figure size 432x288 with 1 Axes>"
      ]
     },
     "metadata": {
      "needs_background": "light"
     },
     "output_type": "display_data"
    }
   ],
   "source": [
    "#Plotting a countplot showing Churn according to International plan\n",
    "ax = sns.countplot(x = 'international plan', hue = 'churn', data = df)\n",
    "for p in ax.patches:\n",
    "    ax.annotate('{:.1f}'.format(p.get_height()), (p.get_x()+0.25, p.get_height()+0.01))\n",
    "\n",
    "plt.show()"
   ]
  },
  {
   "cell_type": "code",
   "execution_count": 15,
   "metadata": {},
   "outputs": [
    {
     "name": "stdout",
     "output_type": "stream",
     "text": [
      "% of customers who are loyal on the International plan is 11.49501661129568\n",
      "% of customers who churn on the International plan is 42.414860681114554\n"
     ]
    }
   ],
   "source": [
    "#Churn percentage of customers who dont have International plan\n",
    "print('% of customers who are loyal on the International plan is',346*100/3010)\n",
    "\n",
    "#Churn percentage of customers who  have International plan.\n",
    "print('% of customers who churn on the International plan is',137*100/323)"
   ]
  },
  {
   "cell_type": "markdown",
   "metadata": {},
   "source": [
    "##### Conclusion:\n",
    "- Churn rate is more with customer using international plan.\n",
    "- Customers with International plan have about 42% Churn rate.\n",
    "- While customers who don't have International plan have about 11% Churn rate.\n",
    "- It is possible that the international plans might not be attractive for customers.\n"
   ]
  },
  {
   "cell_type": "markdown",
   "metadata": {},
   "source": [
    "### 2.35 Churn in accordance with voice mail plan"
   ]
  },
  {
   "cell_type": "code",
   "execution_count": 16,
   "metadata": {},
   "outputs": [
    {
     "data": {
      "text/plain": [
       "no     2411\n",
       "yes     922\n",
       "Name: voice mail plan, dtype: int64"
      ]
     },
     "execution_count": 16,
     "metadata": {},
     "output_type": "execute_result"
    }
   ],
   "source": [
    "#Value counts of Voice mail plan\n",
    "df['voice mail plan'].value_counts()"
   ]
  },
  {
   "cell_type": "code",
   "execution_count": 17,
   "metadata": {},
   "outputs": [
    {
     "data": {
      "image/png": "[encoded data removed]",
      "text/plain": [
       "<Figure size 432x288 with 1 Axes>"
      ]
     },
     "metadata": {
      "needs_background": "light"
     },
     "output_type": "display_data"
    }
   ],
   "source": [
    "#plottting a countplot of Churn according to Voicemail plan\n",
    "ax= sns.countplot(x='voice mail plan',hue='churn',data=df)\n",
    "for p in ax.patches:\n",
    "    ax.annotate('{:.1f}'.format(p.get_height()), (p.get_x()+0.25, p.get_height()+0.01))\n",
    "\n",
    "plt.show()"
   ]
  },
  {
   "cell_type": "code",
   "execution_count": 18,
   "metadata": {},
   "outputs": [
    {
     "name": "stdout",
     "output_type": "stream",
     "text": [
      "Churn rate of customer that lack voice mail plan is 16.715055993363748\n",
      "Churn rate of customer with voice mail plan is 8.676789587852495\n"
     ]
    }
   ],
   "source": [
    "#Churn rate of customer without Voice mail plan\n",
    "\n",
    "#Churn rate = number of Churned customer / total number of customers with voice mail plan\n",
    "print('Churn rate of customer that lack voice mail plan is',403*100/2411)\n",
    "\n",
    "#Churn rate of customer with Voice mail plan\n",
    "\n",
    "#Churn rate = number of Churned customer / total number of customers with voice mail plan\n",
    "print('Churn rate of customer with voice mail plan is',80*100/922)\n"
   ]
  },
  {
   "cell_type": "markdown",
   "metadata": {},
   "source": [
    "##### Conclusion:\n",
    "- Churn rate of customer that lack voice mail plan is 16%\n",
    "- Churn rate of customer with voice mail plan is 8%\n",
    "- Voice mail plan seems to be loved more among customers"
   ]
  },
  {
   "cell_type": "markdown",
   "metadata": {},
   "source": [
    "### 2.36 Churn in accordance with charges"
   ]
  },
  {
   "cell_type": "code",
   "execution_count": 19,
   "metadata": {},
   "outputs": [
    {
     "data": {
      "image/png": "[encoded data removed]",
      "text/plain": [
       "<Figure size 432x288 with 1 Axes>"
      ]
     },
     "metadata": {
      "needs_background": "light"
     },
     "output_type": "display_data"
    }
   ],
   "source": [
    "#plotting Box plot showing how Total day charge has an impact on Churn\n",
    "sns.boxplot(x='churn',y='total day charge', data = df);"
   ]
  },
  {
   "cell_type": "code",
   "execution_count": 20,
   "metadata": {},
   "outputs": [
    {
     "data": {
      "image/png": "[encoded data removed]",
      "text/plain": [
       "<Figure size 432x288 with 1 Axes>"
      ]
     },
     "metadata": {
      "needs_background": "light"
     },
     "output_type": "display_data"
    }
   ],
   "source": [
    "#plotting Box plot showing how Total eveining charge has an impact on Churn\n",
    "sns.boxplot(x='churn',y='total eve charge', data = df);"
   ]
  },
  {
   "cell_type": "code",
   "execution_count": 21,
   "metadata": {},
   "outputs": [
    {
     "data": {
      "image/png": "[encoded data removed]",
      "text/plain": [
       "<Figure size 432x288 with 1 Axes>"
      ]
     },
     "metadata": {
      "needs_background": "light"
     },
     "output_type": "display_data"
    }
   ],
   "source": [
    "#plotting Box plot showing how Total night charge has an impact on Churn\n",
    "sns.boxplot(x='churn',y='total night charge', data = df);"
   ]
  },
  {
   "cell_type": "code",
   "execution_count": 22,
   "metadata": {},
   "outputs": [
    {
     "data": {
      "image/png": "[encoded data removed]",
      "text/plain": [
       "<Figure size 432x288 with 1 Axes>"
      ]
     },
     "metadata": {
      "needs_background": "light"
     },
     "output_type": "display_data"
    }
   ],
   "source": [
    "#plotting Box plot showing how Total international charge has an impact on Churn\n",
    "sns.boxplot(x='churn',y='total intl charge', data = df);"
   ]
  },
  {
   "cell_type": "code",
   "execution_count": 23,
   "metadata": {},
   "outputs": [
    {
     "data": {
      "text/html": [
       "<div>\n",
       "<style scoped>\n",
       "    .dataframe tbody tr th:only-of-type {\n",
       "        vertical-align: middle;\n",
       "    }\n",
       "\n",
       "    .dataframe tbody tr th {\n",
       "        vertical-align: top;\n",
       "    }\n",
       "\n",
       "    .dataframe thead th {\n",
       "        text-align: right;\n",
       "    }\n",
       "</style>\n",
       "<table border=\"1\" class=\"dataframe\">\n",
       "  <thead>\n",
       "    <tr style=\"text-align: right;\">\n",
       "      <th></th>\n",
       "      <th>total day charge</th>\n",
       "      <th>total eve charge</th>\n",
       "      <th>total night charge</th>\n",
       "      <th>total intl charge</th>\n",
       "    </tr>\n",
       "  </thead>\n",
       "  <tbody>\n",
       "    <tr>\n",
       "      <th>count</th>\n",
       "      <td>3333.000000</td>\n",
       "      <td>3333.000000</td>\n",
       "      <td>3333.000000</td>\n",
       "      <td>3333.000000</td>\n",
       "    </tr>\n",
       "    <tr>\n",
       "      <th>mean</th>\n",
       "      <td>30.562307</td>\n",
       "      <td>17.083540</td>\n",
       "      <td>9.039325</td>\n",
       "      <td>2.764581</td>\n",
       "    </tr>\n",
       "    <tr>\n",
       "      <th>std</th>\n",
       "      <td>9.259435</td>\n",
       "      <td>4.310668</td>\n",
       "      <td>2.275873</td>\n",
       "      <td>0.753773</td>\n",
       "    </tr>\n",
       "    <tr>\n",
       "      <th>min</th>\n",
       "      <td>0.000000</td>\n",
       "      <td>0.000000</td>\n",
       "      <td>1.040000</td>\n",
       "      <td>0.000000</td>\n",
       "    </tr>\n",
       "    <tr>\n",
       "      <th>25%</th>\n",
       "      <td>24.430000</td>\n",
       "      <td>14.160000</td>\n",
       "      <td>7.520000</td>\n",
       "      <td>2.300000</td>\n",
       "    </tr>\n",
       "    <tr>\n",
       "      <th>50%</th>\n",
       "      <td>30.500000</td>\n",
       "      <td>17.120000</td>\n",
       "      <td>9.050000</td>\n",
       "      <td>2.780000</td>\n",
       "    </tr>\n",
       "    <tr>\n",
       "      <th>75%</th>\n",
       "      <td>36.790000</td>\n",
       "      <td>20.000000</td>\n",
       "      <td>10.590000</td>\n",
       "      <td>3.270000</td>\n",
       "    </tr>\n",
       "    <tr>\n",
       "      <th>max</th>\n",
       "      <td>59.640000</td>\n",
       "      <td>30.910000</td>\n",
       "      <td>17.770000</td>\n",
       "      <td>5.400000</td>\n",
       "    </tr>\n",
       "  </tbody>\n",
       "</table>\n",
       "</div>"
      ],
      "text/plain": [
       "       total day charge  total eve charge  total night charge  \\\n",
       "count       3333.000000       3333.000000         3333.000000   \n",
       "mean          30.562307         17.083540            9.039325   \n",
       "std            9.259435          4.310668            2.275873   \n",
       "min            0.000000          0.000000            1.040000   \n",
       "25%           24.430000         14.160000            7.520000   \n",
       "50%           30.500000         17.120000            9.050000   \n",
       "75%           36.790000         20.000000           10.590000   \n",
       "max           59.640000         30.910000           17.770000   \n",
       "\n",
       "       total intl charge  \n",
       "count        3333.000000  \n",
       "mean            2.764581  \n",
       "std             0.753773  \n",
       "min             0.000000  \n",
       "25%             2.300000  \n",
       "50%             2.780000  \n",
       "75%             3.270000  \n",
       "max             5.400000  "
      ]
     },
     "execution_count": 23,
     "metadata": {},
     "output_type": "execute_result"
    }
   ],
   "source": [
    "df[['total day charge','total eve charge','total night charge','total intl charge']].describe()"
   ]
  },
  {
   "cell_type": "markdown",
   "metadata": {},
   "source": [
    "From above plots we can conclude that:\n",
    "\n",
    "- Charges for the day time calls are way higher than that of Evening and Night.\n",
    "- Day time call charges is a significant reason to leading to customer Churn."
   ]
  },
  {
   "cell_type": "markdown",
   "metadata": {},
   "source": [
    "### 2.4 Relationship between Minutes and Charge."
   ]
  },
  {
   "cell_type": "code",
   "execution_count": 25,
   "metadata": {},
   "outputs": [
    {
     "data": {
      "image/png": "[encoded data removed]",
      "text/plain": [
       "<Figure size 432x288 with 1 Axes>"
      ]
     },
     "metadata": {
      "needs_background": "light"
     },
     "output_type": "display_data"
    }
   ],
   "source": [
    "#scatter plot between Total day minutes and Total day charge\n",
    "plt.scatter(x=df['total day minutes'], y=df['total day charge'])\n",
    "plt.title('Day mins vs day charge')\n",
    "plt.xlabel('Minutes')\n",
    "plt.ylabel('Charge');"
   ]
  },
  {
   "cell_type": "code",
   "execution_count": 26,
   "metadata": {},
   "outputs": [
    {
     "data": {
      "image/png": "[encoded data removed]",
      "text/plain": [
       "<Figure size 432x288 with 1 Axes>"
      ]
     },
     "metadata": {
      "needs_background": "light"
     },
     "output_type": "display_data"
    }
   ],
   "source": [
    "#scatter plot between Total eve minutes and Total eve charge\n",
    "plt.scatter(x=df['total eve minutes'], y=df['total eve charge'])\n",
    "plt.title('Eve mins vs eve charge')\n",
    "plt.xlabel('Minutes')\n",
    "plt.ylabel('Charge');\n"
   ]
  },
  {
   "cell_type": "code",
   "execution_count": 27,
   "metadata": {},
   "outputs": [
    {
     "data": {
      "image/png": "[encoded data removed]",
      "text/plain": [
       "<Figure size 432x288 with 1 Axes>"
      ]
     },
     "metadata": {
      "needs_background": "light"
     },
     "output_type": "display_data"
    }
   ],
   "source": [
    "#scatter plot between Total night minutes and Total night charge\n",
    "plt.scatter(x=df['total night minutes'], y=df['total night charge'])\n",
    "plt.title('Day night vs night charge')\n",
    "plt.xlabel('Minutes')\n",
    "plt.ylabel('Charge');"
   ]
  },
  {
   "cell_type": "code",
   "execution_count": 28,
   "metadata": {},
   "outputs": [
    {
     "data": {
      "image/png": "[encoded data removed]",
      "text/plain": [
       "<Figure size 432x288 with 1 Axes>"
      ]
     },
     "metadata": {
      "needs_background": "light"
     },
     "output_type": "display_data"
    }
   ],
   "source": [
    "#scatter plot between Total intl minutes and Total intl charge\n",
    "plt.scatter(x=df['total intl minutes'], y=df['total intl charge'])\n",
    "plt.title('Day intl vs intl charge')\n",
    "plt.xlabel('Minutes')\n",
    "plt.ylabel('Charge');"
   ]
  },
  {
   "cell_type": "markdown",
   "metadata": {},
   "source": [
    "##### Conclusion:\n",
    "- There is a linear relationship between minutes and charges irrespective of its time of day or night\n",
    "- There is a linear relationship between international minutes and international charges\n",
    "- Day-time call rates are significantly higher than evening and night-time rates.\n"
   ]
  },
  {
   "cell_type": "markdown",
   "metadata": {
    "nbpresent": {
     "id": "830f83d2-2099-463e-bad3-61060ec2b7d3"
    }
   },
   "source": [
    "### 2.5 Correlation heatmap\n",
    "\n",
    "A correlation matrix describing the correlation between the different features in the dataset."
   ]
  },
  {
   "cell_type": "code",
   "execution_count": null,
   "metadata": {
    "nbpresent": {
     "id": "ac5f4014-8ff3-4aac-ac0b-7efed5cca52d"
    }
   },
   "outputs": [],
   "source": [
    "correlation_matrix = features.corr()\n",
    "plt.figure(figsize=(15, 10))\n",
    "ax = sns.heatmap(\n",
    "    correlation_matrix,\n",
    "    vmax=1,\n",
    "    square=True,\n",
    "    annot=True,\n",
    "    fmt='.2f',\n",
    "    cmap='BuGn',\n",
    "    cbar_kws={\"shrink\": .5},\n",
    "    robust=True)\n",
    "plt.title('Correlation Matrix showing features', fontsize=8);"
   ]
  },
  {
   "cell_type": "markdown",
   "metadata": {
    "nbpresent": {
     "id": "109cc101-f262-43c6-bdfb-c089f14d73ec"
    }
   },
   "source": [
    "From the result of this Correlation Matrix,these features are highly correlated\n",
    "#### Heatmap analysis\n",
    "- ‘Total day minutes’ and ‘total day charges’ are highly correlated.\n",
    "- ‘Total eve minutes’ and ‘total eve charges’ are highly correlated.\n",
    "\n",
    "- ‘Total night minutes’ and ‘total night charges’ are highly correlated.\n",
    "\n",
    "- ‘Total intl minutes’ and ‘total intl charges’ are highly correlated.\n",
    "\n",
    "I will not drop either for now,for the sake of analysis\n",
    "\n",
    "\n"
   ]
  },
  {
   "cell_type": "markdown",
   "metadata": {},
   "source": [
    "## 2.0 Data Preparation for Modeling"
   ]
  },
  {
   "cell_type": "markdown",
   "metadata": {},
   "source": [
    "### 2.1 Strip off redundant code\n",
    "Here we drop the ID columns ie (area code and phone number) since they will not be relevant to the analysis"
   ]
  },
  {
   "cell_type": "code",
   "execution_count": null,
   "metadata": {},
   "outputs": [],
   "source": [
    "features.drop([\"area code\",\"phone number\"], axis = 1, inplace = True)\n"
   ]
  },
  {
   "cell_type": "markdown",
   "metadata": {},
   "source": [
    "### 2.2 Label Encoding - Categorical Columns\n"
   ]
  },
  {
   "cell_type": "code",
   "execution_count": null,
   "metadata": {},
   "outputs": [],
   "source": [
    "#first we check for the categorical columns in the features\n",
    "features.dtypes"
   ]
  },
  {
   "cell_type": "code",
   "execution_count": null,
   "metadata": {},
   "outputs": [],
   "source": [
    "#the categorical variables are state,international plan and voice mail plan\n",
    "# import discrete value encoder\n",
    "from sklearn import preprocessing\n",
    "\n",
    "label_encoder = preprocessing.LabelEncoder()"
   ]
  },
  {
   "cell_type": "code",
   "execution_count": null,
   "metadata": {},
   "outputs": [],
   "source": [
    "#fit and transform the categorical columns in features using the encoder\n",
    "features['state'] = label_encoder.fit_transform(features['state'])\n",
    "features['international plan'] = label_encoder.fit_transform(features['international plan'])\n",
    "features['voice mail plan'] = label_encoder.fit_transform(features['voice mail plan'])"
   ]
  },
  {
   "cell_type": "code",
   "execution_count": null,
   "metadata": {},
   "outputs": [],
   "source": [
    "#check if it worked\n",
    "features.dtypes"
   ]
  },
  {
   "cell_type": "markdown",
   "metadata": {
    "nbpresent": {
     "id": "f8f302a0-bfef-4d66-b0ef-329686383de1"
    }
   },
   "source": [
    "### 2.3 Features Importance\n",
    "\n",
    "Feature selection process of finding and selecting the most useful features in a dataset. Unnecessary features decrease training speed, the model interpretability and the generalization performance on the test set. "
   ]
  },
  {
   "cell_type": "code",
   "execution_count": null,
   "metadata": {
    "nbpresent": {
     "id": "bce014d8-2e7b-4172-be55-4f5d9b553a37"
    }
   },
   "outputs": [],
   "source": [
    "# #import libabry\n",
    "from sklearn.model_selection import train_test_split\n",
    "# split dataset into random train and test subsets - random_state is the seed used by the random number generator\n",
    "X_train, X_test, y_train, y_test = train_test_split(\n",
    "     features, target, test_size=0.3, random_state=42,stratify=target)\n",
    "\n",
    " #import classifier\n",
    "from sklearn.ensemble import RandomForestClassifier\n",
    "\n",
    " # Random Forest Model\n",
    "rf = RandomForestClassifier()\n",
    "\n",
    " # fit the model on your training data\n",
    "rf.fit(X_train, y_train.values.ravel())\n",
    "\n",
    "# plot the feature importance\n",
    "feat_scores = pd.DataFrame(\n",
    "{\n",
    "        'Fraction of Samples Affected': rf.feature_importances_\n",
    "},\n",
    "   index=features.columns)\n",
    "feat_scores = feat_scores.sort_values(by='Fraction of Samples Affected')\n",
    "feat_scores.plot(kind='barh', figsize=(8, 4), colormap='rainbow')\n",
    "sns.despine()"
   ]
  },
  {
   "cell_type": "markdown",
   "metadata": {
    "nbpresent": {
     "id": "867a1bb6-a4e5-4619-8103-29dee879dec2"
    }
   },
   "source": [
    "According to the feature importance analysis produced by the Random Forest algorithm, the following features had the highest predictive power:\n",
    "\n",
    "1. total day charge\n",
    "2. total day minutes\n",
    "3. customer service calls\n",
    "4. international plan\n",
    "5. total eve minutes\n"
   ]
  },
  {
   "cell_type": "markdown",
   "metadata": {},
   "source": [
    "###  2.4 Build a Feature Matrix"
   ]
  },
  {
   "cell_type": "code",
   "execution_count": null,
   "metadata": {},
   "outputs": [],
   "source": [
    "features.columns"
   ]
  },
  {
   "cell_type": "code",
   "execution_count": null,
   "metadata": {},
   "outputs": [],
   "source": [
    "features = features.to_numpy().astype(np.float)\n",
    "features.shape, features"
   ]
  },
  {
   "cell_type": "markdown",
   "metadata": {},
   "source": [
    "### 2.41 Changing target variable "
   ]
  },
  {
   "cell_type": "code",
   "execution_count": null,
   "metadata": {},
   "outputs": [],
   "source": [
    "target = target['churn'].to_numpy().astype(np.int)\n",
    "target.size,target"
   ]
  },
  {
   "cell_type": "markdown",
   "metadata": {},
   "source": [
    "This marks the end of the data preparing stage.Here we have\n",
    "- Stripped off redundant code ie removed columns that we didnt need for modelling of our algorithm\n",
    "- Label encoded categorical data\n",
    "- Used feature selection process to list the most useful features in our dataset\n",
    "-  Built feature matrix of the features and coverted the target to int\n",
    "\n",
    "\n",
    "\n",
    "\n",
    "\n"
   ]
  },
  {
   "cell_type": "markdown",
   "metadata": {},
   "source": [
    "# 3.Modeling"
   ]
  },
  {
   "cell_type": "code",
   "execution_count": null,
   "metadata": {},
   "outputs": [],
   "source": [
    "# #import library\n",
    "from sklearn.model_selection import train_test_split\n",
    "# split dataset into random train and test subsets \n",
    "X_train, X_test, y_train, y_test = train_test_split(\n",
    "     features, target, test_size=0.3, random_state=42,stratify=target)\n"
   ]
  },
  {
   "cell_type": "code",
   "execution_count": null,
   "metadata": {},
   "outputs": [],
   "source": [
    "X_train.shape, X_test.shape, y_train.shape, y_test.shape"
   ]
  },
  {
   "cell_type": "markdown",
   "metadata": {},
   "source": [
    "Because the data is imbalanced, I'll oversample the minor class (Churn=True) to make the data more balanced using SMOTE."
   ]
  },
  {
   "cell_type": "code",
   "execution_count": null,
   "metadata": {},
   "outputs": [],
   "source": [
    "from imblearn.over_sampling import SMOTE\n",
    "sm = SMOTE(random_state=42)\n",
    "X_train_balanced, y_train_balanced = sm.fit_resample(X_train, y_train)"
   ]
  },
  {
   "cell_type": "code",
   "execution_count": null,
   "metadata": {},
   "outputs": [],
   "source": [
    "X_train_balanced.shape, y_train_balanced.shape\n"
   ]
  },
  {
   "cell_type": "code",
   "execution_count": null,
   "metadata": {},
   "outputs": [],
   "source": [
    "import collections\n",
    "collections.Counter(y_train_balanced)"
   ]
  },
  {
   "cell_type": "markdown",
   "metadata": {},
   "source": [
    "## 3.1 Training and evaluating the models"
   ]
  },
  {
   "cell_type": "code",
   "execution_count": null,
   "metadata": {},
   "outputs": [],
   "source": [
    "#Import relevant class and function\n",
    "from sklearn.ensemble import RandomForestClassifier\n",
    "\n",
    "#Instantiate the classifier\n",
    "rf = RandomForestClassifier(n_estimators=100, random_state=42, n_jobs=10, criterion='entropy')\n",
    "\n",
    "#fit classifier on train_balanced subset\n",
    "rf.fit(X_train_balanced, y_train_balanced)\n",
    "\n",
    "#use classifier to find the predicted y value of the test subset\n",
    "y_pred_rfc = rf.predict(X_test)\n",
    "\n",
    "#import classification metrics\n",
    "from sklearn.metrics import classification_report, f1_score, roc_auc_score\n",
    "print(classification_report(y_test, y_pred_rfc))\n",
    "\n",
    "#metric_result = print(classification_report(y_test, y_pred_baseline_model))\n",
    "metric_result = pd.DataFrame(data=[['RandomForestClassifier', f1_score(y_test, y_pred_rfc), roc_auc_score(y_test, y_pred_rfc)]], \n",
    "                             columns=['algorithm', 'f1_score', 'roc_auc_score'])\n",
    "\n"
   ]
  },
  {
   "cell_type": "code",
   "execution_count": null,
   "metadata": {},
   "outputs": [],
   "source": [
    "from sklearn.tree import DecisionTreeClassifier\n",
    "from sklearn.ensemble import AdaBoostClassifier\n",
    "\n",
    "tree = DecisionTreeClassifier(criterion='entropy', random_state=42, max_depth=3)\n",
    "ada = AdaBoostClassifier(base_estimator=tree, n_estimators=500, learning_rate=0.1, random_state=1)\n",
    "ada.fit(X_train_balanced, y_train_balanced)\n",
    "y_pred_ada = ada.predict(X_test)\n",
    "\n",
    "print(classification_report(y_test, y_pred_ada))\n",
    "metric_result.loc[1] = ['AdaBoostClassifier', f1_score(y_test, y_pred_ada), roc_auc_score(y_test, y_pred_ada)]\n",
    "\n"
   ]
  },
  {
   "cell_type": "code",
   "execution_count": null,
   "metadata": {},
   "outputs": [],
   "source": [
    "from sklearn.ensemble import GradientBoostingClassifier\n",
    "gbc = GradientBoostingClassifier(loss='deviance', n_estimators=100, max_depth=4)\n",
    "gbc.fit(X_train_balanced, y_train_balanced)\n",
    "y_pred_gbc = gbc.predict(X_test)\n",
    "\n",
    "print(classification_report(y_test, y_pred_gbc))\n",
    "metric_result.loc[2] = ['GradientBoostingClassifier', f1_score(y_test, y_pred_gbc), roc_auc_score(y_test, y_pred_gbc)]\n",
    "\n"
   ]
  },
  {
   "cell_type": "code",
   "execution_count": null,
   "metadata": {},
   "outputs": [],
   "source": [
    "# Import relevant class and function\n",
    "from sklearn.linear_model import LogisticRegression\n",
    "\n",
    "\n",
    "# Instantiate a LogisticRegression with random_state=42\n",
    "baseline_model = LogisticRegression(random_state=42)\n",
    "\n",
    "#fit model on train_balanced subset data\n",
    "baseline_model.fit(X_train_balanced,y_train_balanced)\n",
    "y_pred_baseline_model = baseline_model.predict(X_test)\n",
    "\n",
    "\n",
    "from sklearn.metrics import classification_report, f1_score, roc_auc_score\n",
    "\n",
    "print(classification_report(y_test, y_pred_baseline_model))\n",
    "metric_result.loc[3] = ['LogisticRegression', f1_score(y_test, y_pred_baseline_model), roc_auc_score(y_test, y_pred_baseline_model)]\n"
   ]
  },
  {
   "cell_type": "code",
   "execution_count": null,
   "metadata": {},
   "outputs": [],
   "source": [
    "metric_result"
   ]
  },
  {
   "cell_type": "code",
   "execution_count": null,
   "metadata": {},
   "outputs": [],
   "source": [
    "metric_result.plot(x='algorithm', kind='bar');"
   ]
  },
  {
   "cell_type": "markdown",
   "metadata": {},
   "source": [
    "So, to evaluate if the model works, that is, if it was possible to determine which ones present the highest probability of Churn, I used roc_auc_score. This is one of the most popular metrics for evaluating machine learning models, especially when there are disproportionate classes."
   ]
  },
  {
   "cell_type": "markdown",
   "metadata": {},
   "source": [
    "Their respective roc_auc scores are listed below:\n",
    "\n",
    "* GradientBoostedClassifier:0.87\n",
    "* RandomForestClassifier:   0.88\n",
    "* AdaBoostClassifier:       0.85\n",
    "* Logistic Regression:      0.67\n",
    "\n",
    "RandomForestClassifier produced the best roc_auc score of 0.88.It is therefore the best model suited for building an algorithm of this problem."
   ]
  },
  {
   "cell_type": "markdown",
   "metadata": {},
   "source": [
    "##  3.2 Model Tuning"
   ]
  },
  {
   "cell_type": "markdown",
   "metadata": {},
   "source": [
    "Since the RandomForestClassifier produced the best roc_auc score and the highest f1 score rates, we will continue with its study. Let's see the errors produced by the model."
   ]
  },
  {
   "cell_type": "markdown",
   "metadata": {},
   "source": [
    "### 3.21 Error Analysis"
   ]
  },
  {
   "cell_type": "code",
   "execution_count": null,
   "metadata": {},
   "outputs": [],
   "source": [
    "# train/test split\n",
    "X_train, X_test, y_train, y_test = train_test_split(\n",
    "    features, target, shuffle=True, test_size=0.3, random_state=42)\n",
    "\n",
    "# fit Model\n",
    "\n",
    "model = RandomForestClassifier().fit(X_train_balanced, y_train_balanced)\n",
    "\n",
    "# R^2 - the best R² possible score is 1.0\n",
    "print(\"R²: \", model.score(X_test, y_test))\n",
    "predictions = model.predict(X_test)\n",
    "mse = mean_squared_error(y_test, predictions)\n",
    "rmse = np.sqrt(mse)\n",
    "print(\"rmse: \", rmse)"
   ]
  },
  {
   "cell_type": "markdown",
   "metadata": {},
   "source": [
    "##### Conclusion from the error analysis:\n",
    "- With an r squared of 0.98,the Random Forest Classification model reveals that 98% of the variability observed in the churn is explained by the model.\n",
    "- With an rmse of 0.1,which is extreemly low indicates that the Random Forest Classification model is a best fit and accurately  predicts the churn \n",
    "\n"
   ]
  },
  {
   "cell_type": "markdown",
   "metadata": {},
   "source": [
    "# 4. Evaluation"
   ]
  },
  {
   "cell_type": "markdown",
   "metadata": {},
   "source": [
    "#### From our metrics in the modeling stage:\n",
    "\n",
    "##### 1.It wasi mportant to use a ML rather than a simpler form of data analysis because with the analysis of the vast amount of data that we had,ML did automate the entire data analysis workflow to provide deeper, faster, and more comprehensive insights. \n",
    "\n",
    "##### 2..The RandomForestClassifier had the best roc-auc score of 0.88.This is very good performance as it means that the model is as good as random.The insight we can get from this is that the model by the RandomForestClassifier has the ability to predict the target correctly 88% of the time\n",
    "\n",
    "##### 3.Limitations in my analysis-The Dataset was imbalanced and therefore couldnt get the highest roc_auc_score of 1\n",
    "\n",
    "##### 4.Recommendation to guarantee customer retention:\n",
    "- A good way to lower churn is to lower the prices as the talk time increases.\n",
    "- Have special offers for those who make more international calls.\n",
    "- Introduce free voice mail plans\n",
    "- Promote the service and its products frequently in area 415 area "
   ]
  },
  {
   "cell_type": "markdown",
   "metadata": {
    "collapsed": true,
    "nbpresent": {
     "id": "8da0b887-aae3-495e-8c35-fa0df514f107"
    }
   },
   "source": [
    "# 4. Conclusion\n",
    "\n",
    "The Random Forest Classifier model did a good job of predicting churn for the SyriaTel Telecom company\n",
    "    "
   ]
  }
 ],
 "metadata": {
  "anaconda-cloud": {},
  "kernelspec": {
   "display_name": "Python (learn-env)",
   "language": "python",
   "name": "learn-env"
  },
  "language_info": {
   "codemirror_mode": {
    "name": "ipython",
    "version": 3
   },
   "file_extension": ".py",
   "mimetype": "text/x-python",
   "name": "python",
   "nbconvert_exporter": "python",
   "pygments_lexer": "ipython3",
   "version": "3.8.5"
  },
  "nbpresent": {
   "slides": {
    "152807d2-c663-48e6-ac66-8c537ee4aefc": {
     "id": "152807d2-c663-48e6-ac66-8c537ee4aefc",
     "prev": "faea275e-7b9e-4007-ad6b-a8957fa433b4",
     "regions": {
      "33f1bb11-6b7a-4c18-bfb4-d3d97c6d46c3": {
       "attrs": {
        "height": 0.8,
        "width": 0.8,
        "x": 0.1,
        "y": 0.1
       },
       "content": {
        "cell": "78d4eea6-d374-43ce-ac57-a17d06044049",
        "part": "whole"
       },
       "id": "33f1bb11-6b7a-4c18-bfb4-d3d97c6d46c3"
      }
     }
    },
    "2410c324-da84-4b20-9086-c4b784b6f62a": {
     "id": "2410c324-da84-4b20-9086-c4b784b6f62a",
     "prev": "b36a602c-6a58-4f32-a46e-9b9db8461cf7",
     "regions": {
      "338a5979-546c-4065-98dc-1297d4eb4ecb": {
       "attrs": {
        "height": 0.8,
        "width": 0.8,
        "x": 0.1,
        "y": 0.1
       },
       "content": {
        "cell": "673aa8b4-a7dc-4890-b18e-988616b1f4bd",
        "part": "whole"
       },
       "id": "338a5979-546c-4065-98dc-1297d4eb4ecb"
      }
     }
    },
    "28005d02-262e-4987-becd-65bc261c0eba": {
     "id": "28005d02-262e-4987-becd-65bc261c0eba",
     "prev": "e7636845-75a8-4853-bc05-72bb4c708a3d",
     "regions": {
      "8efbd42b-ab77-4a17-899f-8df1b6b2d0a1": {
       "attrs": {
        "height": 0.8,
        "width": 0.8,
        "x": 0.1,
        "y": 0.1
       },
       "content": {
        "cell": "838b76a5-58b1-4353-a441-a2c30603b483",
        "part": "whole"
       },
       "id": "8efbd42b-ab77-4a17-899f-8df1b6b2d0a1"
      }
     }
    },
    "377c660b-a068-4b81-a7a6-31973a0712ad": {
     "id": "377c660b-a068-4b81-a7a6-31973a0712ad",
     "prev": "52201dc3-5e73-4cd3-980c-1de1e87aef44",
     "regions": {
      "6ad9ff58-eded-4ac5-ae0c-747441cf0d9b": {
       "attrs": {
        "height": 0.8,
        "width": 0.8,
        "x": 0.1,
        "y": 0.1
       },
       "content": {
        "cell": "830f83d2-2099-463e-bad3-61060ec2b7d3",
        "part": "whole"
       },
       "id": "6ad9ff58-eded-4ac5-ae0c-747441cf0d9b"
      }
     }
    },
    "3bab3bba-e40d-4cd1-9da8-515a00245eb8": {
     "id": "3bab3bba-e40d-4cd1-9da8-515a00245eb8",
     "prev": "28005d02-262e-4987-becd-65bc261c0eba",
     "regions": {
      "c69b4afc-5bd9-491f-aee5-d9436aba66da": {
       "attrs": {
        "height": 0.8,
        "width": 0.8,
        "x": 0.1,
        "y": 0.1
       },
       "content": {
        "cell": "97de455d-d736-45c7-afce-c8bdd975de2a",
        "part": "whole"
       },
       "id": "c69b4afc-5bd9-491f-aee5-d9436aba66da"
      }
     }
    },
    "438862db-30af-47a5-8fa9-6d2ef4043902": {
     "id": "438862db-30af-47a5-8fa9-6d2ef4043902",
     "prev": null,
     "regions": {
      "f1ba8581-5c56-4156-9c01-1dde904f76e4": {
       "attrs": {
        "height": 0.8,
        "width": 0.8,
        "x": 0.1,
        "y": 0.1
       },
       "content": {
        "cell": "41a1ec97-9533-45aa-ada5-2d22fce7e5f9",
        "part": "whole"
       },
       "id": "f1ba8581-5c56-4156-9c01-1dde904f76e4"
      }
     }
    },
    "45bd194a-0c1f-4d4b-8577-db8c71033d15": {
     "id": "45bd194a-0c1f-4d4b-8577-db8c71033d15",
     "prev": "d7dc2cb7-fd8c-4997-aed6-ce34c762bc7c",
     "regions": {
      "1974051d-4a38-42de-a576-f463c620c75a": {
       "attrs": {
        "height": 0.8,
        "width": 0.8,
        "x": 0.1,
        "y": 0.1
       },
       "content": {
        "cell": "867a1bb6-a4e5-4619-8103-29dee879dec2",
        "part": "whole"
       },
       "id": "1974051d-4a38-42de-a576-f463c620c75a"
      }
     }
    },
    "4a352220-6501-49b4-beeb-604251603772": {
     "id": "4a352220-6501-49b4-beeb-604251603772",
     "prev": "152807d2-c663-48e6-ac66-8c537ee4aefc",
     "regions": {
      "59530faa-fed5-426c-a33b-a3b498530abc": {
       "attrs": {
        "height": 0.8,
        "width": 0.8,
        "x": 0.1,
        "y": 0.1
       },
       "content": {
        "cell": "8da0b887-aae3-495e-8c35-fa0df514f107",
        "part": "whole"
       },
       "id": "59530faa-fed5-426c-a33b-a3b498530abc"
      }
     }
    },
    "52201dc3-5e73-4cd3-980c-1de1e87aef44": {
     "id": "52201dc3-5e73-4cd3-980c-1de1e87aef44",
     "prev": "56f86d65-2cc7-4f65-84fa-5dc6192217af",
     "regions": {
      "472e8f31-2157-4a63-9d23-6c36b222efa8": {
       "attrs": {
        "height": 0.8,
        "width": 0.8,
        "x": 0.1,
        "y": 0.1
       },
       "content": {
        "cell": "091be348-752b-40a1-9913-a5f66e586f99",
        "part": "whole"
       },
       "id": "472e8f31-2157-4a63-9d23-6c36b222efa8"
      }
     }
    },
    "56f86d65-2cc7-4f65-84fa-5dc6192217af": {
     "id": "56f86d65-2cc7-4f65-84fa-5dc6192217af",
     "prev": "3bab3bba-e40d-4cd1-9da8-515a00245eb8",
     "regions": {
      "358df401-9081-46c6-b9be-4bff02cd66da": {
       "attrs": {
        "height": 0.8,
        "width": 0.8,
        "x": 0.1,
        "y": 0.1
       },
       "content": {
        "cell": "babe32f8-f697-4ec4-92c9-55e55f4dbef5",
        "part": "whole"
       },
       "id": "358df401-9081-46c6-b9be-4bff02cd66da"
      }
     }
    },
    "5b59641f-c4cf-4e29-b036-a6a414e1803b": {
     "id": "5b59641f-c4cf-4e29-b036-a6a414e1803b",
     "prev": "d118e07f-6de6-4e2d-88ff-06c5630797f4",
     "regions": {
      "1731a4cc-aa11-4163-80f0-b32a5b7b4755": {
       "attrs": {
        "height": 0.8,
        "width": 0.8,
        "x": 0.1,
        "y": 0.1
       },
       "content": {
        "cell": "5f441923-7288-4a26-a651-78ee08d64ed2",
        "part": "whole"
       },
       "id": "1731a4cc-aa11-4163-80f0-b32a5b7b4755"
      }
     }
    },
    "62948a2f-8178-4847-be9a-1e89a494bb3e": {
     "id": "62948a2f-8178-4847-be9a-1e89a494bb3e",
     "prev": "377c660b-a068-4b81-a7a6-31973a0712ad",
     "regions": {
      "7bb5ba3c-a2ac-4e4f-b9a4-60219aefbffe": {
       "attrs": {
        "height": 0.8,
        "width": 0.8,
        "x": 0.1,
        "y": 0.1
       },
       "content": {
        "cell": "ac5f4014-8ff3-4aac-ac0b-7efed5cca52d",
        "part": "whole"
       },
       "id": "7bb5ba3c-a2ac-4e4f-b9a4-60219aefbffe"
      }
     }
    },
    "7d6b1bf3-1007-4700-bb4d-ad598afe3c6d": {
     "id": "7d6b1bf3-1007-4700-bb4d-ad598afe3c6d",
     "prev": "45bd194a-0c1f-4d4b-8577-db8c71033d15",
     "regions": {
      "cb7f95c7-a755-48fe-93af-cb88a87a29a8": {
       "attrs": {
        "height": 0.8,
        "width": 0.8,
        "x": 0.1,
        "y": 0.1
       },
       "content": {
        "cell": "123e3f60-f7cf-42e0-bc0a-344a25489096",
        "part": "whole"
       },
       "id": "cb7f95c7-a755-48fe-93af-cb88a87a29a8"
      }
     }
    },
    "9089426f-d361-430c-a8d8-05353dee27c3": {
     "id": "9089426f-d361-430c-a8d8-05353dee27c3",
     "prev": "2410c324-da84-4b20-9086-c4b784b6f62a",
     "regions": {
      "8f52cb97-923e-45e9-9c9c-0937e9ff493d": {
       "attrs": {
        "height": 0.8,
        "width": 0.8,
        "x": 0.1,
        "y": 0.1
       },
       "content": {
        "cell": "f8f302a0-bfef-4d66-b0ef-329686383de1",
        "part": "whole"
       },
       "id": "8f52cb97-923e-45e9-9c9c-0937e9ff493d"
      }
     }
    },
    "92875d38-4d35-4c73-ad22-a0748cd9a648": {
     "id": "92875d38-4d35-4c73-ad22-a0748cd9a648",
     "prev": "5b59641f-c4cf-4e29-b036-a6a414e1803b",
     "regions": {
      "9d29bc2b-c6f1-414c-84a7-0425d220a423": {
       "attrs": {
        "height": 0.8,
        "width": 0.8,
        "x": 0.1,
        "y": 0.1
       },
       "content": {
        "cell": "9bf2b1ea-b6fb-40cc-a2fe-a2b872bdd7f2",
        "part": "whole"
       },
       "id": "9d29bc2b-c6f1-414c-84a7-0425d220a423"
      }
     }
    },
    "9373c8c2-a6bf-4c92-8430-efff437a83ac": {
     "id": "9373c8c2-a6bf-4c92-8430-efff437a83ac",
     "prev": "92875d38-4d35-4c73-ad22-a0748cd9a648",
     "regions": {
      "f4f31799-0439-462d-a195-9ae8d4bbaf10": {
       "attrs": {
        "height": 0.8,
        "width": 0.8,
        "x": 0.1,
        "y": 0.1
       },
       "content": {
        "cell": "c78558c3-6cc4-4af9-a63c-38c5efd9a473",
        "part": "whole"
       },
       "id": "f4f31799-0439-462d-a195-9ae8d4bbaf10"
      }
     }
    },
    "b36a602c-6a58-4f32-a46e-9b9db8461cf7": {
     "id": "b36a602c-6a58-4f32-a46e-9b9db8461cf7",
     "prev": "c4f8be7d-3688-4259-adf4-1da9fa66b830",
     "regions": {
      "dd78af41-80d4-48bc-a183-c58ad0b4e5ee": {
       "attrs": {
        "height": 0.8,
        "width": 0.8,
        "x": 0.1,
        "y": 0.1
       },
       "content": {
        "cell": "aa869a59-1185-461c-9817-d2eb33ad9376",
        "part": "whole"
       },
       "id": "dd78af41-80d4-48bc-a183-c58ad0b4e5ee"
      }
     }
    },
    "c4f8be7d-3688-4259-adf4-1da9fa66b830": {
     "id": "c4f8be7d-3688-4259-adf4-1da9fa66b830",
     "prev": "d0403f9d-94d0-4b34-ba42-54d7318fdd7c",
     "regions": {
      "1b12a077-3203-43fd-9c82-2fd2f3c74f4e": {
       "attrs": {
        "height": 0.8,
        "width": 0.8,
        "x": 0.1,
        "y": 0.1
       },
       "content": {
        "cell": "bfbfb044-9888-45d2-bbb5-2a4beaa2abfe",
        "part": "whole"
       },
       "id": "1b12a077-3203-43fd-9c82-2fd2f3c74f4e"
      }
     }
    },
    "d0403f9d-94d0-4b34-ba42-54d7318fdd7c": {
     "id": "d0403f9d-94d0-4b34-ba42-54d7318fdd7c",
     "prev": "62948a2f-8178-4847-be9a-1e89a494bb3e",
     "regions": {
      "2c9dde0c-091e-4f7a-87fc-02245626ecd9": {
       "attrs": {
        "height": 0.8,
        "width": 0.8,
        "x": 0.1,
        "y": 0.1
       },
       "content": {
        "cell": "109cc101-f262-43c6-bdfb-c089f14d73ec",
        "part": "whole"
       },
       "id": "2c9dde0c-091e-4f7a-87fc-02245626ecd9"
      }
     }
    },
    "d118e07f-6de6-4e2d-88ff-06c5630797f4": {
     "id": "d118e07f-6de6-4e2d-88ff-06c5630797f4",
     "prev": "438862db-30af-47a5-8fa9-6d2ef4043902",
     "regions": {
      "d0bb9394-67a9-496a-94b6-bb0956d393ab": {
       "attrs": {
        "height": 0.8,
        "width": 0.8,
        "x": 0.1,
        "y": 0.1
       },
       "content": {
        "cell": "e3f9c5cb-55c7-4cf0-bc4f-1bd990733dd6",
        "part": "whole"
       },
       "id": "d0bb9394-67a9-496a-94b6-bb0956d393ab"
      }
     }
    },
    "d7dc2cb7-fd8c-4997-aed6-ce34c762bc7c": {
     "id": "d7dc2cb7-fd8c-4997-aed6-ce34c762bc7c",
     "prev": "9089426f-d361-430c-a8d8-05353dee27c3",
     "regions": {
      "91ad7ac3-c56a-4ade-bc35-dfad255f2fe2": {
       "attrs": {
        "height": 0.8,
        "width": 0.8,
        "x": 0.1,
        "y": 0.1
       },
       "content": {
        "cell": "bce014d8-2e7b-4172-be55-4f5d9b553a37",
        "part": "whole"
       },
       "id": "91ad7ac3-c56a-4ade-bc35-dfad255f2fe2"
      }
     }
    },
    "e7636845-75a8-4853-bc05-72bb4c708a3d": {
     "id": "e7636845-75a8-4853-bc05-72bb4c708a3d",
     "prev": "ed42fd54-b3c0-4ea0-a7de-039be13c045a",
     "regions": {
      "94189838-ddc4-437e-9264-978193d2a50d": {
       "attrs": {
        "height": 0.8,
        "width": 0.8,
        "x": 0.1,
        "y": 0.1
       },
       "content": {
        "cell": "659d7069-5f04-4078-b7ed-91c2707170aa",
        "part": "whole"
       },
       "id": "94189838-ddc4-437e-9264-978193d2a50d"
      }
     }
    },
    "ed42fd54-b3c0-4ea0-a7de-039be13c045a": {
     "id": "ed42fd54-b3c0-4ea0-a7de-039be13c045a",
     "prev": "9373c8c2-a6bf-4c92-8430-efff437a83ac",
     "regions": {
      "cadaa65f-8f85-418a-9ab5-d4ff903cea31": {
       "attrs": {
        "height": 0.8,
        "width": 0.8,
        "x": 0.1,
        "y": 0.1
       },
       "content": {
        "cell": "5eb2360e-85e2-45e7-a710-efbdffb0b1ab",
        "part": "whole"
       },
       "id": "cadaa65f-8f85-418a-9ab5-d4ff903cea31"
      }
     }
    },
    "faea275e-7b9e-4007-ad6b-a8957fa433b4": {
     "id": "faea275e-7b9e-4007-ad6b-a8957fa433b4",
     "prev": "7d6b1bf3-1007-4700-bb4d-ad598afe3c6d",
     "regions": {
      "d2724c12-6d79-4d4e-8f07-c1663ba30bc6": {
       "attrs": {
        "height": 0.8,
        "width": 0.8,
        "x": 0.1,
        "y": 0.1
       },
       "content": {
        "cell": "31027484-c82c-40b6-b5d7-6061ab0fc2ee",
        "part": "whole"
       },
       "id": "d2724c12-6d79-4d4e-8f07-c1663ba30bc6"
      }
     }
    }
   },
   "themes": {}
  }
 },
 "nbformat": 4,
 "nbformat_minor": 1
}
